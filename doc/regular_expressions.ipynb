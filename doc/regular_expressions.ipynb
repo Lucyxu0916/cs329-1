{
  "cells": [
    {
      "cell_type": "markdown",
      "metadata": {
        "pycharm": {}
      },
      "source": [
        "# Regular Expressions\n",
        "\n",
        "\n",
        "## Table of Contents\n",
        "\n",
        "* [Turn 0](#Turn-0)\n",
        "* [Turn 1](#Turn-1)\n",
        "* [Turn 2](#Turn-2)\n",
        "* [References](#References)\n",
        "\n",
        "\n",
        "\n",
        "## Task\n",
        "\n",
        "Our task is to develop a chatbot that can talk about smartphones.\n",
        "Here is an example dialogue (`S`: system, `U`: user):\n",
        "\n",
        "```\n",
        "S0: are you using a smartphone?\n",
        "U0: yes, i have an iphone.\n",
        "S1: how long have you been using iphone?\n",
        "U1: about 2 years.\n",
        "S2: oh, are you using iphone 10s or 10s max?\n",
        "U2: no, i\u0027m using iphone 6s plus.\n",
        "S3: iphone 6s plus is about 5 years old.\n",
        "```"
      ]
    },
    {
      "cell_type": "markdown",
      "metadata": {
        "pycharm": {}
      },
      "source": "## Turn 0\n\nGiven the following question initiated by the system:\n\n\u003e S0: are you using a smartphone?\n\nWe expect either `Yes`, `No`, or `None` as the user response."
    },
    {
      "cell_type": "markdown",
      "metadata": {
        "pycharm": {}
      },
      "source": [
        "### Response: `Yes`\n",
        "\n",
        "The following code defines a group `(yes|yeah)` in the regular expression that matches the literals:"
      ]
    },
    {
      "cell_type": "code",
      "execution_count": 1,
      "metadata": {
        "pycharm": {}
      },
      "outputs": [
        {
          "name": "stdout",
          "output_type": "stream",
          "text": [
            "\u003cre.Match object; span\u003d(0, 4), match\u003d\u0027yeah\u0027\u003e\n"
          ]
        }
      ],
      "source": [
        "import re\n",
        "\n",
        "re_yn \u003d re.compile(r\u0027(yes|yeah)\u0027)\n",
        "m \u003d re_yn.match(\u0027yeah, i am\u0027)\n",
        "print(m)"
      ]
    },
    {
      "cell_type": "markdown",
      "metadata": {
        "pycharm": {}
      },
      "source": [
        "If there is a match, we can retrive the literal:"
      ]
    },
    {
      "cell_type": "code",
      "execution_count": 2,
      "metadata": {
        "pycharm": {}
      },
      "outputs": [
        {
          "name": "stdout",
          "output_type": "stream",
          "text": [
            "yeah\n"
          ]
        }
      ],
      "source": [
        "if m:\n",
        "    yes \u003d m.group()\n",
        "    print(yes)"
      ]
    },
    {
      "cell_type": "markdown",
      "metadata": {
        "pycharm": {}
      },
      "source": [
        "If no match is found, it returns `None`:"
      ]
    },
    {
      "cell_type": "code",
      "execution_count": 3,
      "metadata": {
        "pycharm": {}
      },
      "outputs": [
        {
          "name": "stdout",
          "output_type": "stream",
          "text": [
            "None\n"
          ]
        }
      ],
      "source": [
        "m \u003d re_yn.match(\u0027sure, i am\u0027)\n",
        "print(m)"
      ]
    },
    {
      "cell_type": "markdown",
      "metadata": {
        "pycharm": {}
      },
      "source": [
        "### Issue 1\n",
        "\n",
        "`re_yn` can overmatch:"
      ]
    },
    {
      "cell_type": "code",
      "execution_count": 4,
      "metadata": {
        "pycharm": {}
      },
      "outputs": [
        {
          "name": "stdout",
          "output_type": "stream",
          "text": [
            "yes\n"
          ]
        }
      ],
      "source": [
        "m \u003d re_yn.match(\u0027yesterday was my birthday\u0027)\n",
        "if m: print(m.group())"
      ]
    },
    {
      "cell_type": "markdown",
      "metadata": {
        "pycharm": {}
      },
      "source": [
        "Match only if the literals are followed by a space (`\\s`), a comma (`,`), a period (`\\.`), or the end of the string (`$`):"
      ]
    },
    {
      "cell_type": "code",
      "execution_count": 5,
      "metadata": {
        "pycharm": {}
      },
      "outputs": [
        {
          "name": "stdout",
          "output_type": "stream",
          "text": [
            "None\n",
            "(\u0027yes\u0027, \u0027,\u0027)\n",
            "0 yes,\n",
            "1 yes\n"
          ]
        }
      ],
      "source": [
        "re_yn \u003d re.compile(r\u0027(yes|yeah)(\\s|,|\\.|$)\u0027)\n",
        "\n",
        "m \u003d re_yn.match(\u0027yesterday was my birthday\u0027)\n",
        "print(m)\n",
        "\n",
        "m \u003d re_yn.match(\u0027yes, i am\u0027)\n",
        "print(m.groups())\n",
        "for i in range(len(m.groups())): print(i, m.group(i))"
      ]
    },
    {
      "cell_type": "markdown",
      "metadata": {
        "pycharm": {}
      },
      "source": [
        "Exclude the second group from capturing with `?:`:"
      ]
    },
    {
      "cell_type": "code",
      "execution_count": 6,
      "metadata": {
        "pycharm": {}
      },
      "outputs": [
        {
          "name": "stdout",
          "output_type": "stream",
          "text": [
            "0 yes,\n"
          ]
        }
      ],
      "source": [
        "re_yn \u003d re.compile(r\u0027(yes|yeah)(?:\\s|,|\\.|$)\u0027)\n",
        "\n",
        "m \u003d re_yn.match(\u0027yes, i am\u0027)\n",
        "for i in range(len(m.groups())): print(i, m.group(i))"
      ]
    },
    {
      "cell_type": "markdown",
      "metadata": {
        "pycharm": {}
      },
      "source": [
        "### Issue 2\n",
        "\n",
        "`re_yn` matches only from the beginning of the string:"
      ]
    },
    {
      "cell_type": "code",
      "execution_count": 7,
      "metadata": {
        "pycharm": {}
      },
      "outputs": [
        {
          "name": "stdout",
          "output_type": "stream",
          "text": [
            "None\n"
          ]
        }
      ],
      "source": [
        "m \u003d re_yn.match(\u0027well, yes I am\u0027)\n",
        "print(m)"
      ]
    },
    {
      "cell_type": "markdown",
      "metadata": {
        "pycharm": {}
      },
      "source": [
        "Allow the regular expression to match the literals with zero-to-many prior characters (`.*`) followed by a space (`\\s`) or the beginning of the string (`^`):"
      ]
    },
    {
      "cell_type": "code",
      "execution_count": 8,
      "metadata": {
        "pycharm": {}
      },
      "outputs": [
        {
          "name": "stdout",
          "output_type": "stream",
          "text": [
            "yeah\n",
            "yes\n"
          ]
        }
      ],
      "source": [
        "re_yn \u003d re.compile(r\u0027(?:.*)(?:\\s|^)(yes|yeah)(?:\\s|,|\\.|$)\u0027)\n",
        "\n",
        "m \u003d re_yn.match(\u0027yeah, I am\u0027)\n",
        "if m: print(m.group(1))\n",
        "\n",
        "m \u003d re_yn.match(\u0027well yes I am\u0027)\n",
        "if m: print(m.group(1))"
      ]
    },
    {
      "cell_type": "markdown",
      "metadata": {
        "pycharm": {}
      },
      "source": [
        "### Response: `No`\n",
        "\n",
        "Define another group `(no|not really)` in the same reqular expression that matches the literals:"
      ]
    },
    {
      "cell_type": "code",
      "execution_count": 9,
      "metadata": {
        "pycharm": {}
      },
      "outputs": [
        {
          "name": "stdout",
          "output_type": "stream",
          "text": [
            "(\u0027yes\u0027, None)\n",
            "(None, \u0027no\u0027)\n"
          ]
        }
      ],
      "source": [
        "re_yn \u003d re.compile(r\u0027(?:.*)(?:\\s|^)(yes|yeah)|(no|not really)(?:\\s|,|\\.|$)\u0027)\n",
        "\n",
        "m \u003d re_yn.match(\u0027yes, I am\u0027)\n",
        "if m: print(m.groups())\n",
        "    \n",
        "m \u003d re_yn.match(\u0027no I am not\u0027)\n",
        "if m: print(m.groups())"
      ]
    },
    {
      "cell_type": "markdown",
      "metadata": {
        "pycharm": {}
      },
      "source": [
        "### Issue\n",
        "\n",
        "The matching stops after the first match:"
      ]
    },
    {
      "cell_type": "code",
      "execution_count": 10,
      "metadata": {
        "pycharm": {}
      },
      "outputs": [
        {
          "name": "stdout",
          "output_type": "stream",
          "text": [
            "(\u0027yes\u0027, None)\n"
          ]
        }
      ],
      "source": [
        "m \u003d re_yn.match(\u0027yes or no\u0027)\n",
        "if m: print(m.groups())"
      ]
    },
    {
      "cell_type": "markdown",
      "metadata": {
        "pycharm": {}
      },
      "source": [
        "Use the `findall` method instead of `match`:"
      ]
    },
    {
      "cell_type": "code",
      "execution_count": 11,
      "metadata": {
        "pycharm": {}
      },
      "outputs": [
        {
          "name": "stdout",
          "output_type": "stream",
          "text": [
            "(\u0027yes\u0027, \u0027\u0027)\n",
            "(\u0027\u0027, \u0027no\u0027)\n"
          ]
        }
      ],
      "source": [
        "re_yn \u003d re.compile(r\u0027(?:\\s|^)(yes|yeah)|(no|not really)(?:\\s|,|\\.|$)\u0027)\n",
        "ts \u003d re_yn.findall(\u0027yes or no\u0027)\n",
        "for t in ts: print(t)"
      ]
    },
    {
      "cell_type": "markdown",
      "metadata": {
        "pycharm": {}
      },
      "source": [
        "### Regex Matcher\n",
        "\n",
        "Write a function that returns a list of literals defined in the regular expression matching the input string:"
      ]
    },
    {
      "cell_type": "code",
      "execution_count": 12,
      "metadata": {
        "pycharm": {}
      },
      "outputs": [],
      "source": [
        "from typing import List\n",
        "from re import Pattern\n",
        "\n",
        "def regex_matcher(regex: Pattern, instr: str) -\u003e List[str]:\n",
        "    ts \u003d [None] * regex.groups\n",
        "    \n",
        "    for t in regex.findall(instr):\n",
        "        if isinstance(t, str): t \u003d [t]\n",
        "        for i, literal in enumerate(t):\n",
        "            if ts[i] is None and literal:\n",
        "                ts[i] \u003d literal\n",
        "    \n",
        "    return ts"
      ]
    },
    {
      "cell_type": "code",
      "execution_count": 13,
      "metadata": {
        "pycharm": {}
      },
      "outputs": [
        {
          "name": "stdout",
          "output_type": "stream",
          "text": [
            "[\u0027yes\u0027, None]\n",
            "[None, \u0027no\u0027]\n",
            "[\u0027yes\u0027, \u0027no\u0027]\n",
            "[None, None]\n"
          ]
        }
      ],
      "source": [
        "print(regex_matcher(re_yn, \u0027yes, I am\u0027))\n",
        "print(regex_matcher(re_yn, \u0027no I am not\u0027))\n",
        "print(regex_matcher(re_yn, \u0027yes or no\u0027))\n",
        "print(regex_matcher(re_yn, \u0027I have an iphone\u0027))"
      ]
    },
    {
      "cell_type": "markdown",
      "metadata": {
        "pycharm": {}
      },
      "source": [
        "### Response: Phone Model\n",
        "\n",
        "The `yes/no` response can be followed by the user\u0027s specific phone model."
      ]
    },
    {
      "cell_type": "code",
      "execution_count": 53,
      "metadata": {
        "pycharm": {}
      },
      "outputs": [
        {
          "name": "stdout",
          "output_type": "stream",
          "text": [
            "[None, \u0027iphone\u0027]\n",
            "[\u0027google\u0027, \u0027pixel\u0027]\n",
            "[None, \u0027galaxy\u0027]\n"
          ]
        }
      ],
      "source": [
        "re_phone \u003d re.compile(r\u0027(?:\\s|^)(apple|google|samsung)|(iphone|pixel|galaxy|android)(?:\\s|,|\\.|$)\u0027)\n",
        "\n",
        "print(regex_matcher(re_phone, \u0027yes I have an iphone\u0027))\n",
        "print(regex_matcher(re_phone, \u0027yes I have google pixel\u0027))\n",
        "print(regex_matcher(re_phone, \u0027yes I have a galaxy phone\u0027))"
      ]
    },
    {
      "cell_type": "markdown",
      "metadata": {
        "pycharm": {}
      },
      "source": [
        "### Put Together"
      ]
    },
    {
      "cell_type": "markdown",
      "metadata": {
        "pycharm": {}
      },
      "source": [
        "Create the [SimpleNamespace](https://docs.python.org/3/library/types.html#types.SimpleNamespace) `regs` containing all regular expressions:"
      ]
    },
    {
      "cell_type": "code",
      "execution_count": 15,
      "metadata": {
        "pycharm": {}
      },
      "outputs": [],
      "source": [
        "from types import SimpleNamespace\n",
        "\n",
        "res \u003d SimpleNamespace()\n",
        "res.re_yn \u003d re.compile(r\u0027(?:\\s|^)(yes|yeah)|(no|not really)(?:\\s|,|\\.|$)\u0027)\n",
        "res.re_phone \u003d re.compile(r\u0027(?:\\s|^)(apple|google|samsung)|(iphone|pixel|galaxy|android)(?:\\s|,|\\.|$)\u0027)"
      ]
    },
    {
      "cell_type": "markdown",
      "metadata": {
        "pycharm": {}
      },
      "source": [
        "Write a function to handle `Turn 0`:"
      ]
    },
    {
      "cell_type": "code",
      "execution_count": 16,
      "metadata": {
        "pycharm": {}
      },
      "outputs": [],
      "source": [
        "from typing import Any\n",
        "\n",
        "def turn_0(res: SimpleNamespace):\n",
        "    s \u003d \u0027S: are you using a smartphone?\u0027\n",
        "    u \u003d input(s + \u0027\\nU: \u0027)\n",
        "\n",
        "    yn \u003d regex_matcher(res.re_yn, u)\n",
        "    phone \u003d regex_matcher(res.re_phone, u)\n",
        "    res.in_phone_company \u003d phone[0]\n",
        "    res.in_phone_name \u003d phone[1]\n",
        "\n",
        "    if any(phone):\n",
        "        turn_1a(res)\n",
        "    elif yn[0]:\n",
        "        turn_1b(res)\n",
        "    elif yn[1]:\n",
        "        turn_1c(res)\n",
        "\n",
        "    print(\u0027S: good bye!\u0027)\n",
        "\n",
        "def turn_1a(res: SimpleNamespace):\n",
        "    p \u003d res.in_phone_name if res.in_phone_name else res.in_phone_company\n",
        "    s \u003d \u0027S: how long have you been using {}?\u0027.format(p)\n",
        "    u \u003d input(s + \u0027\\nU: \u0027)\n",
        "\n",
        "def turn_1b(res: SimpleNamespace):\n",
        "    s \u003d \u0027S: what kind of smartphone do you have?\u0027\n",
        "    u \u003d input(s + \u0027\\nU: \u0027)\n",
        "    # TODO: to be filled\n",
        "\n",
        "def turn_1c(res: SimpleNamespace):\n",
        "    s \u003d \u0027really? you should consider getting one.\u0027\n",
        "    print(s)"
      ]
    },
    {
      "cell_type": "code",
      "execution_count": 17,
      "metadata": {
        "pycharm": {}
      },
      "outputs": [
        {
          "name": "stdout",
          "output_type": "stream",
          "text": [
            "S: are you using a smartphone?\n",
            "U: yes, i have an iphone\n",
            "S: how long have you been using iphone?\n",
            "U: about 2 years\n",
            "S: good bye!\n"
          ]
        }
      ],
      "source": [
        "turn_0(res)"
      ]
    },
    {
      "cell_type": "markdown",
      "metadata": {
        "pycharm": {}
      },
      "source": "## Turn 1\n\nGiven the following question:\n\n\u003e S1: how long have you been using iphone?\n\nWe expect date information from the user."
    },
    {
      "cell_type": "markdown",
      "metadata": {
        "pycharm": {}
      },
      "source": [
        "### Response: Duration\n",
        "\n",
        "Write a regular expression that captures the duration:"
      ]
    },
    {
      "cell_type": "code",
      "execution_count": 18,
      "metadata": {
        "pycharm": {}
      },
      "outputs": [
        {
          "name": "stdout",
          "output_type": "stream",
          "text": [
            "[\u00272\u0027, \u0027year\u0027]\n",
            "[\u00276\u0027, \u0027month\u0027]\n",
            "[\u00271\u0027, \u0027year\u0027]\n"
          ]
        }
      ],
      "source": [
        "res.re_duration \u003d re.compile(r\u0027(?:\\s|^)(\\d+)(?:\\s|-)+(month|year)\u0027)\n",
        "\n",
        "print(regex_matcher(res.re_duration, \u0027about 2 years\u0027))\n",
        "print(regex_matcher(res.re_duration, \u0027over 6-months\u0027))\n",
        "print(regex_matcher(res.re_duration, \u0027almost 1 - year\u0027))"
      ]
    },
    {
      "cell_type": "markdown",
      "metadata": {
        "pycharm": {}
      },
      "source": [
        "Infer the month and the year of user\u0027s phone from the duration:"
      ]
    },
    {
      "cell_type": "code",
      "execution_count": 41,
      "metadata": {
        "pycharm": {}
      },
      "outputs": [
        {
          "name": "stdout",
          "output_type": "stream",
          "text": [
            "2019 7\n"
          ]
        }
      ],
      "source": [
        "duration \u003d regex_matcher(res.re_duration, \u00276 months\u0027)\n",
        "res.in_phone_year, res.in_phone_month \u003d None, 1\n",
        "curr_year, curr_month \u003d 2020, 1\n",
        "\n",
        "if all(duration):\n",
        "    d \u003d int(duration[0])\n",
        "    m \u003d duration[1]\n",
        "    if m \u003d\u003d \u0027year\u0027:\n",
        "        res.in_phone_year \u003d curr_year - d\n",
        "    elif m \u003d\u003d \u0027month\u0027:\n",
        "        res.in_phone_year \u003d curr_year - int(d / 12)\n",
        "        res.in_phone_month \u003d curr_month - (d % 12)\n",
        "        if res.in_phone_month \u003c\u003d 0:\n",
        "            month_diff \u003d abs(res.in_phone_month)\n",
        "            res.in_phone_month \u003d 12 - month_diff\n",
        "            res.in_phone_year -\u003d 1\n",
        "\n",
        "print(res.in_phone_year, res.in_phone_month)"
      ]
    },
    {
      "cell_type": "markdown",
      "metadata": {
        "pycharm": {}
      },
      "source": [
        "### Response: From Date\n",
        "\n",
        "Alternatively, the user may response with the from date:"
      ]
    },
    {
      "cell_type": "code",
      "execution_count": 52,
      "metadata": {
        "pycharm": {}
      },
      "outputs": [
        {
          "name": "stdout",
          "output_type": "stream",
          "text": [
            "[\u0027September\u0027, \u00272018\u0027]\n",
            "[None, \u00272017\u0027]\n"
          ]
        }
      ],
      "source": [
        "res.re_from_date \u003d re.compile(r\u0027(?:\\s|^)(?:since|from)\\s(?:(january|february|march|april|may|june|july|august|[sS]eptember|october|november|december)\\s)?(\\d{2,4})\u0027)\n",
        "\n",
        "print(regex_matcher(res.re_from_date, \u0027since September 2018\u0027))\n",
        "print(regex_matcher(res.re_from_date, \u0027from 2017\u0027))"
      ]
    },
    {
      "cell_type": "markdown",
      "metadata": {
        "pycharm": {}
      },
      "source": [
        "Create a dictionary that maps months in string to their corresponding numbers:"
      ]
    },
    {
      "cell_type": "code",
      "execution_count": 44,
      "metadata": {
        "pycharm": {}
      },
      "outputs": [
        {
          "data": {
            "text/plain": [
              "{\u0027january\u0027: 1,\n",
              " \u0027february\u0027: 2,\n",
              " \u0027march\u0027: 3,\n",
              " \u0027april\u0027: 4,\n",
              " \u0027may\u0027: 5,\n",
              " \u0027june\u0027: 6,\n",
              " \u0027july\u0027: 7,\n",
              " \u0027august\u0027: 8,\n",
              " \u0027september\u0027: 9,\n",
              " \u0027october\u0027: 10,\n",
              " \u0027november\u0027: 11,\n",
              " \u0027december\u0027: 12}"
            ]
          },
          "execution_count": 44,
          "metadata": {},
          "output_type": "execute_result"
        }
      ],
      "source": [
        "res.d_month_to_number \u003d {\n",
        "    month: i for i, month in enumerate(\n",
        "        [\u0027january\u0027,\u0027february\u0027,\u0027march\u0027,\u0027april\u0027,\u0027may\u0027,\u0027june\u0027,\n",
        "         \u0027july\u0027,\u0027august\u0027,\u0027september\u0027,\u0027october\u0027,\u0027november\u0027,\u0027december\u0027], start\u003d1)}\n",
        "res.d_month_to_number"
      ]
    },
    {
      "cell_type": "markdown",
      "metadata": {
        "pycharm": {}
      },
      "source": [
        "Store the year and the month of user\u0027s phone:"
      ]
    },
    {
      "cell_type": "code",
      "execution_count": 46,
      "metadata": {
        "pycharm": {}
      },
      "outputs": [
        {
          "name": "stdout",
          "output_type": "stream",
          "text": [
            "2018 9\n"
          ]
        }
      ],
      "source": [
        "from_date \u003d regex_matcher(res.re_from_date, \u0027since september 2018\u0027)\n",
        "res.in_phone_year, res.in_phone_month \u003d None, 1\n",
        "\n",
        "if any(from_date):\n",
        "    res.in_phone_year \u003d int(from_date[1])\n",
        "    if res.in_phone_year \u003c\u003d 20: res.in_phone_year +\u003d 2000\n",
        "    res.in_phone_month \u003d res.d_month_to_number[from_date[0]] if from_date[0] else 1\n",
        "\n",
        "print(res.in_phone_year, res.in_phone_month)"
      ]
    },
    {
      "cell_type": "markdown",
      "metadata": {
        "pycharm": {}
      },
      "source": [
        "Finally, predict the model "
      ]
    },
    {
      "cell_type": "code",
      "execution_count": 23,
      "metadata": {
        "pycharm": {}
      },
      "outputs": [
        {
          "name": "stdout",
          "output_type": "stream",
          "text": [
            "S: oh, are you using iphone 10s or 10s max?\n",
            "U: no, i\u0027m using iphone 6s plus\n"
          ]
        }
      ],
      "source": "res.d_iphone \u003d {\n    2019: [(9, [\u002711\u0027, \u002711 pro\u0027, \u002711 pro max\u0027])], \n    2018: [(9, [\u002710s\u0027, \u002710s max\u0027])], \n    2017: [(11, [\u002710\u0027]), (9, [\u00278\u0027, \u00278 plus\u0027])], \n    2016: [(9, [\u00277\u0027, \u00277 plus\u0027])], \n    2015: [(9, [\u00276s\u0027, \u00276s plus\u0027])], \n    2014: [(9, [\u00276\u0027, \u00276 plus\u0027])]}\n\nr \u003d res.d_iphone.get(res.in_phone_year, None)\nif r:\n    v \u003d next(models for month, models in r if month \u003c\u003d res.in_phone_month)\n    res.in_phone_version \u003d \u0027 or \u0027.join(v)\n    s \u003d \u0027S: oh, are you using iphone {}?\u0027.format(res.in_phone_version)\n    u \u003d input(s + \u0027\\nU: \u0027)"
    },
    {
      "cell_type": "markdown",
      "metadata": {
        "pycharm": {}
      },
      "source": [
        "### Put Together\n",
        "\n",
        "Write a function to handle `Turn 1a`:"
      ]
    },
    {
      "cell_type": "code",
      "execution_count": 47,
      "metadata": {
        "pycharm": {}
      },
      "outputs": [],
      "source": "def turn_1a(res: SimpleNamespace):\n    p \u003d res.in_phone_name if res.in_phone_name else res.in_phone_company\n    s \u003d \u0027S: how long have you been using {}?\u0027.format(p)\n    u \u003d input(s + \u0027\\nU: \u0027)\n\n    duration \u003d regex_matcher(res.re_duration, u)\n    from_date \u003d regex_matcher(res.re_from_date, u)\n\n    res.in_phone_year, res.in_phone_month \u003d None, 1\n    curr_year, curr_month \u003d 2020, 1\n\n    if all(duration):\n        d \u003d int(duration[0])\n        m \u003d duration[1]\n        if m \u003d\u003d \u0027year\u0027:\n            res.in_phone_year \u003d curr_year - d\n        elif m \u003d\u003d \u0027month\u0027:\n            res.in_phone_year \u003d curr_year - int(d / 12)\n            res.in_phone_month \u003d curr_month - (d % 12)\n            if res.in_phone_month \u003c\u003d 0:\n                month_diff \u003d abs(res.in_phone_month)\n                res.in_phone_month \u003d 12 - month_diff\n                res.in_phone_year -\u003d 1\n    elif any(from_date):\n        res.in_phone_year \u003d int(from_date[1])\n        res.in_phone_month \u003d res.d_month_to_number[from_date[0]] if from_date[0] else 1\n\n    if res.in_phone_year:\n        if res.in_phone_name \u003d\u003d \u0027iphone\u0027 or res.in_phone_company \u003d\u003d \u0027apple\u0027:\n            turn_2a(res)\n\ndef turn_2a(res: SimpleNamespace):\n    r \u003d res.d_iphone.get(res.in_phone_year, None)\n    res.in_phone_version \u003d None\n    \n    if r:\n        v \u003d next(models for month, models in r if month \u003c\u003d res.in_phone_month)\n        res.in_phone_version \u003d v\n        s \u003d \u0027S: oh, are you using iphone {}?\u0027.format(\u0027 or \u0027.join(v))\n        u \u003d input(s + \u0027\\nU: \u0027)\n    else:\n        s \u003d \u0027S: which version of iphone is your model?\u0027\n        u \u003d input(s + \u0027\\nU: \u0027)"
    },
    {
      "cell_type": "code",
      "execution_count": 48,
      "metadata": {
        "pycharm": {}
      },
      "outputs": [
        {
          "name": "stdout",
          "output_type": "stream",
          "text": [
            "S: are you using a smartphone?\n",
            "U: yes i have an iphone\n",
            "S: how long have you been using iphone?\n",
            "U: about 2 years\n",
            "S: oh, are you using iphone 10s or 10s max?\n",
            "U: no i\u0027m using iphone 6s plus\n",
            "S: good bye!\n"
          ]
        }
      ],
      "source": [
        "turn_0(res)"
      ]
    },
    {
      "cell_type": "markdown",
      "metadata": {
        "pycharm": {}
      },
      "source": "## Turn 2\n\nGiven the following question:\n\n\u003e S2: oh, are you using iphone 10s or 10s max?\n\nWe expect the user would response with the specific version of the phone"
    },
    {
      "cell_type": "markdown",
      "metadata": {
        "pycharm": {}
      },
      "source": [
        "### Response: Phone Version\n",
        "\n",
        "Write a regular expression to extract the version of iPhone:"
      ]
    },
    {
      "cell_type": "code",
      "execution_count": 49,
      "metadata": {
        "pycharm": {}
      },
      "outputs": [
        {
          "name": "stdout",
          "output_type": "stream",
          "text": [
            "[\u00276s plus\u0027]\n",
            "[\u002712\u0027]\n"
          ]
        }
      ],
      "source": [
        "res.re_iphone_version \u003d re.compile(r\u0027(?:\\s|^)(?:iphone|version)\\s(\\d+s?(?: (?:plus|max))?)(?:\\s|,|\\.|$)\u0027)\n",
        "\n",
        "print(regex_matcher(res.re_iphone_version, \u0027iphone 6s plus\u0027))\n",
        "print(regex_matcher(res.re_iphone_version, \u0027version 12\u0027))"
      ]
    },
    {
      "cell_type": "code",
      "execution_count": 50,
      "metadata": {
        "pycharm": {}
      },
      "outputs": [],
      "source": "def turn_2a(res: SimpleNamespace):\n    r \u003d res.d_iphone.get(res.in_phone_year, None)\n    res.in_phone_version \u003d None\n\n    if r:\n        v \u003d next(models for month, models in r if month \u003c\u003d res.in_phone_month)\n        res.in_phone_version \u003d v[0]\n        s \u003d \u0027S: oh, are you using iphone {}?\u0027.format(\u0027 or \u0027.join(v))\n        u \u003d input(s + \u0027\\nU: \u0027)\n\n        yn \u003d regex_matcher(res.re_yn, u)\n        if yn[1]: res.in_phone_version \u003d None\n    else:\n        s \u003d \u0027S: which version of iphone is your model?\u0027\n        u \u003d input(s + \u0027\\nU: \u0027)\n\n    version \u003d regex_matcher(res.re_iphone_version, u)\n    if version[0]: res.in_phone_version \u003d version[0]\n    if res.in_phone_version: turn_3a(res)\n\ndef turn_3a(res: SimpleNamespace):\n    # TODO: to be filled\n    old \u003d 5\n    s \u003d \u0027S: iphone {} is about {} years old\u0027.format(res.in_phone_version, old)\n    print(s)"
    },
    {
      "cell_type": "code",
      "execution_count": 51,
      "metadata": {
        "pycharm": {}
      },
      "outputs": [
        {
          "name": "stdout",
          "output_type": "stream",
          "text": [
            "S: are you using a smartphone?\n",
            "U: yes i have an iphone\n",
            "S: how long have you been using iphone?\n",
            "U: about 2 years\n",
            "S: oh, are you using iphone 10s or 10s max?\n",
            "U: no, i\u0027m using iphone 6s plus\n",
            "S: iphone 6s plus is about 5 years old\n",
            "S: good bye!\n"
          ]
        }
      ],
      "source": [
        "turn_0(res)"
      ]
    },
    {
      "cell_type": "markdown",
      "metadata": {
        "pycharm": {}
      },
      "source": "## References\n\n* https://www.regular-expressions.info/tutorial.html\n* https://regex101.com"
    }
  ],
  "metadata": {
    "kernelspec": {
      "display_name": "Python [conda env:emora_cobot_env] *",
      "language": "python",
      "name": "conda-env-emora_cobot_env-py"
    },
    "language_info": {
      "codemirror_mode": {
        "name": "ipython",
        "version": 3
      },
      "file_extension": ".py",
      "mimetype": "text/x-python",
      "name": "python",
      "nbconvert_exporter": "python",
      "pygments_lexer": "ipython3",
      "version": "3.7.4"
    }
  },
  "nbformat": 4,
  "nbformat_minor": 4
}