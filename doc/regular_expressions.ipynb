{
 "cells": [
  {
   "cell_type": "markdown",
   "metadata": {},
   "source": [
    "# Regular Expressions\n",
    "\n",
    "\n",
    "## Table of Contents\n",
    "\n",
    "* [Turn 1](#Turn-1)\n",
    "\n",
    "* [References](#References)\n",
    "\n",
    "\n",
    "\n",
    "## Task\n",
    "\n",
    "Our task is to develop a chatbot that can talk about smartphones.\n",
    "Here is an example dialogue (`S`: system, `U`: user):\n",
    "\n",
    "```\n",
    "S0: are you using a smartphone?\n",
    "U0: yes, i have an iphone.\n",
    "S1: how long have you been using iphone?\n",
    "U1: about 2 years.\n",
    "S2: oh, are you using iphone 10?\n",
    "U2: no, it's actually 7s.\n",
    "S3: that model came out over 3 years ago. have you thought about changing your phone?\n",
    "U3: no, I am good for now.\n",
    "```"
   ]
  },
  {
   "cell_type": "markdown",
   "metadata": {},
   "source": [
    "## Turn 1\n",
    "\n",
    "Given the following question initiated by the system:\n",
    "\n",
    "> S0: are you using a smartphone?\n",
    "\n",
    "We expect either `Yes`, `No`, or `None` as the user response."
   ]
  },
  {
   "cell_type": "markdown",
   "metadata": {},
   "source": [
    "### Yes Response\n",
    "\n",
    "The following code defines a group `(yes|yeah)` in the regular expression that matches the literals:"
   ]
  },
  {
   "cell_type": "code",
   "execution_count": 54,
   "metadata": {},
   "outputs": [
    {
     "name": "stdout",
     "output_type": "stream",
     "text": [
      "<re.Match object; span=(0, 4), match='yeah'>\n"
     ]
    }
   ],
   "source": [
    "import re\n",
    "\n",
    "re_yn = re.compile(r'(yes|yeah)')\n",
    "m = re_yn.match('yeah, i am')\n",
    "print(m)"
   ]
  },
  {
   "cell_type": "markdown",
   "metadata": {},
   "source": [
    "If there is a match, we can retrive the literal:"
   ]
  },
  {
   "cell_type": "code",
   "execution_count": 55,
   "metadata": {},
   "outputs": [
    {
     "name": "stdout",
     "output_type": "stream",
     "text": [
      "yeah\n"
     ]
    }
   ],
   "source": [
    "if m:\n",
    "    yes = m.group()\n",
    "    print(yes)"
   ]
  },
  {
   "cell_type": "markdown",
   "metadata": {},
   "source": [
    "If no match is found, it returns `None`:"
   ]
  },
  {
   "cell_type": "code",
   "execution_count": 56,
   "metadata": {},
   "outputs": [
    {
     "name": "stdout",
     "output_type": "stream",
     "text": [
      "None\n"
     ]
    }
   ],
   "source": [
    "m = re_yn.match('sure, i am')\n",
    "print(m)"
   ]
  },
  {
   "cell_type": "markdown",
   "metadata": {},
   "source": [
    "### Issue 1\n",
    "\n",
    "`re_yn` can overmatch:"
   ]
  },
  {
   "cell_type": "code",
   "execution_count": 57,
   "metadata": {},
   "outputs": [
    {
     "name": "stdout",
     "output_type": "stream",
     "text": [
      "yes\n"
     ]
    }
   ],
   "source": [
    "m = re_yn.match('yesterday was my birthday')\n",
    "if m: print(m.group())"
   ]
  },
  {
   "cell_type": "markdown",
   "metadata": {},
   "source": [
    "Match only if the literals are followed by a space (`\\s`), a comma (`,`), a period (`\\.`), or the end of the string (`$`):"
   ]
  },
  {
   "cell_type": "code",
   "execution_count": 58,
   "metadata": {},
   "outputs": [
    {
     "name": "stdout",
     "output_type": "stream",
     "text": [
      "None\n",
      "('yes', ',')\n",
      "0 yes,\n",
      "1 yes\n"
     ]
    }
   ],
   "source": [
    "re_yn = re.compile(r'(yes|yeah)(\\s|,|\\.|$)')\n",
    "\n",
    "m = re_yn.match('yesterday was my birthday')\n",
    "print(m)\n",
    "\n",
    "m = re_yn.match('yes, i am')\n",
    "print(m.groups())\n",
    "for i in range(len(m.groups())): print(i, m.group(i))"
   ]
  },
  {
   "cell_type": "markdown",
   "metadata": {},
   "source": [
    "Exclude the second group from capturing with `?:`:"
   ]
  },
  {
   "cell_type": "code",
   "execution_count": 60,
   "metadata": {},
   "outputs": [
    {
     "name": "stdout",
     "output_type": "stream",
     "text": [
      "0 yes,\n"
     ]
    }
   ],
   "source": [
    "re_yn = re.compile(r'(yes|yeah)(?:\\s|,|\\.|$)')\n",
    "\n",
    "m = re_yn.match('yes, i am')\n",
    "for i in range(len(m.groups())): print(i, m.group(i))"
   ]
  },
  {
   "cell_type": "markdown",
   "metadata": {},
   "source": [
    "### Issue 2\n",
    "\n",
    "`re_yn` matches only from the beginning of the string:"
   ]
  },
  {
   "cell_type": "code",
   "execution_count": 61,
   "metadata": {},
   "outputs": [
    {
     "name": "stdout",
     "output_type": "stream",
     "text": [
      "None\n"
     ]
    }
   ],
   "source": [
    "m = re_yn.match('well, yes I am')\n",
    "print(m)"
   ]
  },
  {
   "cell_type": "markdown",
   "metadata": {},
   "source": [
    "Allow the regular expression to match the literals with any prior characters followed by a space (`\\s`), a comma (`,`), a period (`\\.`), or the beginning of the string (`^`):"
   ]
  },
  {
   "cell_type": "code",
   "execution_count": 8,
   "metadata": {},
   "outputs": [
    {
     "name": "stdout",
     "output_type": "stream",
     "text": [
      "yeah\n",
      "yes\n"
     ]
    }
   ],
   "source": [
    "re_yn = re.compile(r'(?:.*)(?:\\s|,|\\.|^)(yes|yeah)(?:\\s|,|\\.|$)')\n",
    "\n",
    "m = re_yn.match('yeah, I am')\n",
    "if m: print(m.group(1))\n",
    "\n",
    "m = re_yn.match('well, yes I am')\n",
    "if m: print(m.group(1))"
   ]
  },
  {
   "cell_type": "markdown",
   "metadata": {},
   "source": [
    "### No Response\n",
    "\n",
    "Define another group `(no|not really)` in the same reqular expression that matches the literals:"
   ]
  },
  {
   "cell_type": "code",
   "execution_count": 9,
   "metadata": {},
   "outputs": [
    {
     "name": "stdout",
     "output_type": "stream",
     "text": [
      "('yes', None)\n",
      "(None, 'no')\n"
     ]
    }
   ],
   "source": [
    "re_yn = re.compile(r'(?:.*)(?:\\s|,|\\.|^)(yes|yeah)|(no|not really)(?:\\s|,|\\.|$)')\n",
    "\n",
    "m = re_yn.match('yes, I am')\n",
    "if m: print(m.groups())\n",
    "    \n",
    "m = re_yn.match('no I am not')\n",
    "if m: print(m.groups())"
   ]
  },
  {
   "cell_type": "markdown",
   "metadata": {},
   "source": [
    "### Issue\n",
    "\n",
    "The matching stops after the first match:"
   ]
  },
  {
   "cell_type": "code",
   "execution_count": 10,
   "metadata": {},
   "outputs": [
    {
     "name": "stdout",
     "output_type": "stream",
     "text": [
      "('yes', None)\n"
     ]
    }
   ],
   "source": [
    "m = re_yn.match('yes or no')\n",
    "if m: print(m.groups())"
   ]
  },
  {
   "cell_type": "markdown",
   "metadata": {},
   "source": [
    "Use the `findall` method instead of `match`:"
   ]
  },
  {
   "cell_type": "code",
   "execution_count": 11,
   "metadata": {},
   "outputs": [
    {
     "name": "stdout",
     "output_type": "stream",
     "text": [
      "('yes', '')\n",
      "('', 'no')\n"
     ]
    }
   ],
   "source": [
    "re_yn = re.compile(r'(?:\\s|,|\\.|^)(yes|yeah)|(no|not really)(?:\\s|,|\\.|$)')\n",
    "ts = re_yn.findall('yes or no')\n",
    "for t in ts: print(t)"
   ]
  },
  {
   "cell_type": "markdown",
   "metadata": {},
   "source": [
    "### Function\n",
    "\n",
    "Write a function that returns a list of literals defined in the regular expression matching the input string:"
   ]
  },
  {
   "cell_type": "code",
   "execution_count": 12,
   "metadata": {},
   "outputs": [],
   "source": [
    "from typing import List\n",
    "\n",
    "def regex_matcher(regex: str, input: str) -> List[str]:\n",
    "    ts = None\n",
    "    for t in regex.findall(input):\n",
    "        if ts is None: ts = [None] * len(t)\n",
    "        for i, literal in enumerate(t):\n",
    "            if ts[i] is None and literal:\n",
    "                ts[i] = literal\n",
    "    return ts"
   ]
  },
  {
   "cell_type": "code",
   "execution_count": 13,
   "metadata": {},
   "outputs": [
    {
     "name": "stdout",
     "output_type": "stream",
     "text": [
      "['yes', None]\n",
      "[None, 'no']\n",
      "['yes', 'no']\n"
     ]
    }
   ],
   "source": [
    "print(regex_matcher(re_yn, 'yes, I am'))\n",
    "print(regex_matcher(re_yn, 'no I am not'))\n",
    "print(regex_matcher(re_yn, 'yes or no'))"
   ]
  },
  {
   "cell_type": "markdown",
   "metadata": {},
   "source": [
    "## Response: Phone Model\n",
    "\n",
    "The yes/no response can be followed by the user specifying the phone model."
   ]
  },
  {
   "cell_type": "code",
   "execution_count": 19,
   "metadata": {},
   "outputs": [
    {
     "name": "stdout",
     "output_type": "stream",
     "text": [
      "[None, 'iphone']\n",
      "['google', 'pixel']\n",
      "[None, 'galaxy']\n"
     ]
    }
   ],
   "source": [
    "re_phone = re.compile(r'(?:\\s|,|\\.|^)(apple|google|samsung)|(iphone|pixel|galaxy|android)(?:\\s|,|\\.|$)')\n",
    "\n",
    "print(regex_matcher(re_phone, 'yes I have an iphone'))\n",
    "print(regex_matcher(re_phone, 'yes I have google pixel'))\n",
    "print(regex_matcher(re_phone, 'yes I have a galaxy phone'))"
   ]
  },
  {
   "cell_type": "markdown",
   "metadata": {},
   "source": [
    "## Put Together"
   ]
  },
  {
   "cell_type": "code",
   "execution_count": 47,
   "metadata": {},
   "outputs": [
    {
     "name": "stdout",
     "output_type": "stream",
     "text": [
      "are you using a smartphone?    i have an iphone\n"
     ]
    }
   ],
   "source": [
    "TAB = '    '\n",
    "\n",
    "s0 = 'are you using a smartphone?'\n",
    "u0 = input(s0+TAB)"
   ]
  },
  {
   "cell_type": "code",
   "execution_count": 48,
   "metadata": {},
   "outputs": [
    {
     "name": "stdout",
     "output_type": "stream",
     "text": [
      "how long have you been using iphone?\n"
     ]
    }
   ],
   "source": [
    "yn = regex_matcher(re_yn, u0)\n",
    "phone = regex_matcher(re_phone, u0)\n",
    "\n",
    "if phone:\n",
    "    p = phone[1] if phone[1] else phone[0]\n",
    "    s1 = 'how long have you been using {}?'.format(p)\n",
    "elif yn:\n",
    "    if yn[0]:\n",
    "        s1 = 'what kind of smartphone do you have?'\n",
    "    else:\n",
    "        s1 = 'really? you should consider getting one.'\n",
    "\n",
    "print(s1)"
   ]
  },
  {
   "cell_type": "markdown",
   "metadata": {},
   "source": [
    "## Response: Timeline"
   ]
  },
  {
   "cell_type": "code",
   "execution_count": 53,
   "metadata": {},
   "outputs": [
    {
     "name": "stdout",
     "output_type": "stream",
     "text": [
      "['2', 'year']\n",
      "['15', 'day']\n"
     ]
    }
   ],
   "source": [
    "re_duration = re.compile(r'(\\d+)\\s(day|month|year)')\n",
    "print(regex_matcher(re_duration, 'about 2 years'))\n",
    "print(regex_matcher(re_duration, 'about 15 days'))"
   ]
  },
  {
   "cell_type": "code",
   "execution_count": null,
   "metadata": {},
   "outputs": [],
   "source": []
  },
  {
   "cell_type": "code",
   "execution_count": null,
   "metadata": {},
   "outputs": [],
   "source": []
  },
  {
   "cell_type": "code",
   "execution_count": null,
   "metadata": {},
   "outputs": [],
   "source": []
  },
  {
   "cell_type": "code",
   "execution_count": null,
   "metadata": {},
   "outputs": [],
   "source": []
  },
  {
   "cell_type": "code",
   "execution_count": null,
   "metadata": {},
   "outputs": [],
   "source": []
  },
  {
   "cell_type": "code",
   "execution_count": null,
   "metadata": {},
   "outputs": [],
   "source": []
  },
  {
   "cell_type": "code",
   "execution_count": null,
   "metadata": {},
   "outputs": [],
   "source": []
  },
  {
   "cell_type": "code",
   "execution_count": null,
   "metadata": {},
   "outputs": [],
   "source": []
  },
  {
   "cell_type": "code",
   "execution_count": null,
   "metadata": {},
   "outputs": [],
   "source": []
  },
  {
   "cell_type": "code",
   "execution_count": null,
   "metadata": {},
   "outputs": [],
   "source": []
  },
  {
   "cell_type": "code",
   "execution_count": null,
   "metadata": {},
   "outputs": [],
   "source": []
  },
  {
   "cell_type": "code",
   "execution_count": null,
   "metadata": {},
   "outputs": [],
   "source": []
  },
  {
   "cell_type": "code",
   "execution_count": null,
   "metadata": {},
   "outputs": [],
   "source": []
  },
  {
   "cell_type": "code",
   "execution_count": null,
   "metadata": {},
   "outputs": [],
   "source": []
  },
  {
   "cell_type": "code",
   "execution_count": null,
   "metadata": {},
   "outputs": [],
   "source": []
  },
  {
   "cell_type": "code",
   "execution_count": null,
   "metadata": {},
   "outputs": [],
   "source": []
  },
  {
   "cell_type": "code",
   "execution_count": null,
   "metadata": {},
   "outputs": [],
   "source": []
  },
  {
   "cell_type": "code",
   "execution_count": null,
   "metadata": {},
   "outputs": [],
   "source": []
  },
  {
   "cell_type": "code",
   "execution_count": null,
   "metadata": {},
   "outputs": [],
   "source": []
  },
  {
   "cell_type": "code",
   "execution_count": null,
   "metadata": {},
   "outputs": [],
   "source": []
  },
  {
   "cell_type": "code",
   "execution_count": null,
   "metadata": {},
   "outputs": [],
   "source": []
  },
  {
   "cell_type": "markdown",
   "metadata": {},
   "source": [
    "## References\n",
    "\n",
    "* https://www.regular-expressions.info/tutorial.html\n",
    "* https://regex101.com"
   ]
  }
 ],
 "metadata": {
  "kernelspec": {
   "display_name": "Python 3",
   "language": "python",
   "name": "python3"
  },
  "language_info": {
   "codemirror_mode": {
    "name": "ipython",
    "version": 3
   },
   "file_extension": ".py",
   "mimetype": "text/x-python",
   "name": "python",
   "nbconvert_exporter": "python",
   "pygments_lexer": "ipython3",
   "version": "3.7.4"
  }
 },
 "nbformat": 4,
 "nbformat_minor": 4
}
