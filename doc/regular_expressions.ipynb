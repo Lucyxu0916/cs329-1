{
 "cells": [
  {
   "cell_type": "markdown",
   "metadata": {},
   "source": [
    "# Regular Expressions\n",
    "\n",
    "\n",
    "## Table of Contents\n",
    "\n",
    "* [Turn 0](#Turn-0)\n",
    "* [Turn 1](#Turn-1)\n",
    "* [Turn 2](#Turn-2)\n",
    "* [References](#References)\n",
    "\n",
    "\n",
    "\n",
    "## Task\n",
    "\n",
    "Our task is to develop a chatbot that can talk about smartphones.\n",
    "Here is an example dialogue (`S`: system, `U`: user):\n",
    "\n",
    "```\n",
    "S0: are you using a smartphone?\n",
    "U0: yes, i have an iphone.\n",
    "S1: how long have you been using iphone?\n",
    "U1: about 2 years.\n",
    "S2: oh, are you using iphone 10s or 10s max?\n",
    "U2: no, i'm using iphone 6s plus.\n",
    "S3: iphone 6s plus is about 5 years old.\n",
    "```"
   ]
  },
  {
   "cell_type": "markdown",
   "metadata": {},
   "source": [
    "## Turn 0\n",
    "\n",
    "Given the following question initiated by the system:\n",
    "\n",
    "> S0: are you using a smartphone?\n",
    "\n",
    "We expect either `Yes`, `No`, or `None` as the user response."
   ]
  },
  {
   "cell_type": "markdown",
   "metadata": {},
   "source": [
    "### Response: `Yes`\n",
    "\n",
    "The following code defines a group `(yes|yeah)` in the regular expression that matches the literals:"
   ]
  },
  {
   "cell_type": "code",
   "execution_count": 1,
   "metadata": {},
   "outputs": [
    {
     "name": "stdout",
     "output_type": "stream",
     "text": [
      "<re.Match object; span=(0, 4), match='yeah'>\n"
     ]
    }
   ],
   "source": [
    "import re\n",
    "\n",
    "re_yn = re.compile(r'(yes|yeah)')\n",
    "m = re_yn.match('yeah, i am')\n",
    "print(m)"
   ]
  },
  {
   "cell_type": "markdown",
   "metadata": {},
   "source": [
    "If there is a match, we can retrive the literal:"
   ]
  },
  {
   "cell_type": "code",
   "execution_count": 2,
   "metadata": {},
   "outputs": [
    {
     "name": "stdout",
     "output_type": "stream",
     "text": [
      "yeah\n"
     ]
    }
   ],
   "source": [
    "if m:\n",
    "    yes = m.group()\n",
    "    print(yes)"
   ]
  },
  {
   "cell_type": "markdown",
   "metadata": {},
   "source": [
    "If no match is found, it returns `None`:"
   ]
  },
  {
   "cell_type": "code",
   "execution_count": 5,
   "metadata": {},
   "outputs": [
    {
     "name": "stdout",
     "output_type": "stream",
     "text": [
      "None\n"
     ]
    }
   ],
   "source": [
    "m = re_yn.match('sure, i am')\n",
    "print(m)\n",
    "# m.group()"
   ]
  },
  {
   "cell_type": "markdown",
   "metadata": {},
   "source": [
    "### Issue 1\n",
    "\n",
    "`re_yn` can overmatch:"
   ]
  },
  {
   "cell_type": "code",
   "execution_count": 44,
   "metadata": {},
   "outputs": [
    {
     "name": "stdout",
     "output_type": "stream",
     "text": [
      "yes\n"
     ]
    }
   ],
   "source": [
    "m = re_yn.match('yesterday was my birthday')\n",
    "if m: print(m.group())"
   ]
  },
  {
   "cell_type": "markdown",
   "metadata": {},
   "source": [
    "Match only if the literals are followed by a space (`\\s`), a comma (`,`), a period (`\\.`), or the end of the string (`$`):"
   ]
  },
  {
   "cell_type": "code",
   "execution_count": 11,
   "metadata": {},
   "outputs": [
    {
     "name": "stdout",
     "output_type": "stream",
     "text": [
      "None\n",
      "('yes', ',')\n",
      "2\n",
      "0 yes,\n",
      "1 yes\n",
      "2 ,\n"
     ]
    }
   ],
   "source": [
    "re_yn = re.compile(r'(yes|yeah)(\\s|,|\\.|$)')\n",
    "\n",
    "m = re_yn.match('yesterday was my birthday')\n",
    "print(m)\n",
    "\n",
    "m = re_yn.match('yes, i am')\n",
    "print(m.groups())\n",
    "print(len(m.groups()))\n",
    "for i in range(len(m.groups())+1): print(i, m.group(i))"
   ]
  },
  {
   "cell_type": "markdown",
   "metadata": {},
   "source": [
    "Exclude the second group from capturing with `?:`:"
   ]
  },
  {
   "cell_type": "code",
   "execution_count": 12,
   "metadata": {},
   "outputs": [
    {
     "name": "stdout",
     "output_type": "stream",
     "text": [
      "0 yes,\n",
      "1 yes\n"
     ]
    }
   ],
   "source": [
    "re_yn = re.compile(r'(yes|yeah)(?:\\s|,|\\.|$)')\n",
    "\n",
    "m = re_yn.match('yes, i am')\n",
    "for i in range(len(m.groups())+1): print(i, m.group(i))"
   ]
  },
  {
   "cell_type": "markdown",
   "metadata": {},
   "source": [
    "### Issue 2\n",
    "\n",
    "`re_yn` matches only from the beginning of the string:"
   ]
  },
  {
   "cell_type": "code",
   "execution_count": 47,
   "metadata": {},
   "outputs": [
    {
     "name": "stdout",
     "output_type": "stream",
     "text": [
      "None\n"
     ]
    }
   ],
   "source": [
    "m = re_yn.match('well, yes I am')\n",
    "print(m)"
   ]
  },
  {
   "cell_type": "markdown",
   "metadata": {},
   "source": [
    "Allow the regular expression to match the literals with zero-to-many prior characters (`.*`) followed by a space (`\\s`) or the beginning of the string (`^`):"
   ]
  },
  {
   "cell_type": "code",
   "execution_count": 17,
   "metadata": {},
   "outputs": [
    {
     "name": "stdout",
     "output_type": "stream",
     "text": [
      "<re.Match object; span=(0, 0), match=''>\n"
     ]
    },
    {
     "data": {
      "text/plain": [
       "''"
      ]
     },
     "execution_count": 17,
     "metadata": {},
     "output_type": "execute_result"
    }
   ],
   "source": [
    "r = re.compile(r'(a*)')\n",
    "m = r.match('bbbccc')\n",
    "print(m)\n",
    "m.group()"
   ]
  },
  {
   "cell_type": "code",
   "execution_count": 22,
   "metadata": {
    "pycharm": {
     "name": "#%%\n"
    }
   },
   "outputs": [
    {
     "name": "stdout",
     "output_type": "stream",
     "text": [
      "yeah\n",
      "yes\n"
     ]
    }
   ],
   "source": [
    "re_yn = re.compile(r'(?:.*)(?:\\s|^)(yes|yeah)(?:\\s|,|\\.|$)')\n",
    "\n",
    "m = re_yn.match('yeah, I am')\n",
    "if m: print(m.group(1))\n",
    "\n",
    "m = re_yn.match('well yes I am')\n",
    "if m: print(m.group(1))\n",
    "\n",
    "# try without ^\n",
    "# m = re_yn.match('yes I am')\n",
    "# if m: print(m.group(1))"
   ]
  },
  {
   "cell_type": "markdown",
   "metadata": {
    "pycharm": {
     "name": "#%% md\n"
    }
   },
   "source": [
    "### Response: `No`\n",
    "\n",
    "Define another group `(no|not really)` in the same reqular expression that matches the literals:"
   ]
  },
  {
   "cell_type": "code",
   "execution_count": 23,
   "metadata": {
    "pycharm": {
     "name": "#%%\n"
    }
   },
   "outputs": [
    {
     "name": "stdout",
     "output_type": "stream",
     "text": [
      "('yes', None)\n",
      "(None, 'no')\n"
     ]
    }
   ],
   "source": [
    "re_yn = re.compile(r'(?:.*)(?:\\s|^)(yes|yeah)|(no|not really)(?:\\s|,|\\.|$)')\n",
    "\n",
    "m = re_yn.match('yes, I am')\n",
    "if m: print(m.groups())\n",
    "    \n",
    "m = re_yn.match('no I am not')\n",
    "if m: print(m.groups())"
   ]
  },
  {
   "cell_type": "markdown",
   "metadata": {
    "pycharm": {
     "name": "#%% md\n"
    }
   },
   "source": [
    "### Issue\n",
    "\n",
    "The matching stops after the first match:"
   ]
  },
  {
   "cell_type": "code",
   "execution_count": null,
   "outputs": [],
   "source": [
    "m = re_yn.match('yes or no')\n",
    "if m: print(m.groups())\n",
    "    \n",
    "m = re_yn.match('yes or yeah')\n",
    "if m: print(m.groups())\n",
    "    \n",
    "m = re_yn.match('no and yes')\n",
    "if m: print(m.groups())"
   ],
   "metadata": {
    "collapsed": false,
    "pycharm": {
     "name": "#%%\n"
    }
   }
  },
  {
   "cell_type": "code",
   "execution_count": 27,
   "metadata": {},
   "outputs": [
    {
     "name": "stdout",
     "output_type": "stream",
     "text": [
      "('yes', None)\n",
      "('yeah', None)\n",
      "('yes', None)\n"
     ]
    }
   ],
   "source": [
    "Use the `findall` method instead of `match`:"
   ]
  },
  {
   "cell_type": "markdown",
   "metadata": {},
   "source": [
    "Use the `findall` method instead of `match`:"
   ]
  },
  {
   "cell_type": "code",
   "execution_count": 51,
   "metadata": {},
   "outputs": [
    {
     "name": "stdout",
     "output_type": "stream",
     "text": [
      "('yes', '')\n",
      "('', 'no')\n"
     ]
    }
   ],
   "source": [
    "re_yn = re.compile(r'(?:\\s|^)(yes|yeah)|(no|not really)(?:\\s|,|\\.|$)')\n",
    "ts = re_yn.findall('yes or no')\n",
    "for t in ts: print(t)"
   ]
  },
  {
   "cell_type": "markdown",
   "metadata": {},
   "source": [
    "### Regex Matcher\n",
    "\n",
    "Write a function that returns a list of literals defined in the regular expression matching the input string:"
   ]
  },
  {
   "cell_type": "code",
   "execution_count": 112,
   "metadata": {},
   "outputs": [],
   "source": [
    "from typing import List\n",
    "from re import Pattern\n",
    "\n",
    "def regex_matcher(regex: Pattern, instr: str) -> List[str]:\n",
    "    ts = [None] * regex.groups\n",
    "    \n",
    "    for t in regex.findall(instr):\n",
    "        if isinstance(t, str): t = [t]\n",
    "        for i, literal in enumerate(t):\n",
    "            if ts[i] is None and literal:\n",
    "                ts[i] = literal\n",
    "    \n",
    "    return ts"
   ]
  },
  {
   "cell_type": "code",
   "execution_count": 53,
   "metadata": {},
   "outputs": [
    {
     "name": "stdout",
     "output_type": "stream",
     "text": [
      "['yes', None]\n",
      "[None, 'no']\n",
      "['yes', 'no']\n",
      "[None, None]\n"
     ]
    }
   ],
   "source": [
    "print(regex_matcher(re_yn, 'yes, I am'))\n",
    "print(regex_matcher(re_yn, 'no I am not'))\n",
    "print(regex_matcher(re_yn, 'yes or no'))\n",
    "print(regex_matcher(re_yn, 'I have an iphone'))"
   ]
  },
  {
   "cell_type": "markdown",
   "metadata": {},
   "source": [
    "### Response: Phone Model\n",
    "\n",
    "The `yes/no` response can be followed by the user's specific phone model."
   ]
  },
  {
   "cell_type": "code",
   "execution_count": 54,
   "metadata": {},
   "outputs": [
    {
     "name": "stdout",
     "output_type": "stream",
     "text": [
      "[None, 'iphone']\n",
      "['google', 'pixel']\n",
      "[None, 'galaxy']\n"
     ]
    }
   ],
   "source": [
    "re_phone = re.compile(r'(?:\\s|^)(apple|google|samsung)|(iphone|pixel|galaxy|android)(?:\\s|,|\\.|$)')\n",
    "\n",
    "print(regex_matcher(re_phone, 'yes I have an iphone'))\n",
    "print(regex_matcher(re_phone, 'yes I have google pixel'))\n",
    "print(regex_matcher(re_phone, 'yes I have a galaxy phone'))"
   ]
  },
  {
   "cell_type": "markdown",
   "metadata": {},
   "source": [
    "### Put Together"
   ]
  },
  {
   "cell_type": "markdown",
   "metadata": {},
   "source": [
    "Create the [SimpleNamespace](https://docs.python.org/3/library/types.html#types.SimpleNamespace) `regs` containing all regular expressions:"
   ]
  },
  {
   "cell_type": "code",
   "execution_count": 30,
   "metadata": {},
   "outputs": [],
   "source": [
    "from types import SimpleNamespace\n",
    "\n",
    "res = SimpleNamespace()\n",
    "res.re_yn = re.compile(r'(?:\\s|^)(yes|yeah)|(no|not really)(?:\\s|,|\\.|$)')\n",
    "res.re_phone = re.compile(r'(?:\\s|^)(apple|google|samsung)|(iphone|pixel|galaxy|android)(?:\\s|,|\\.|$)')"
   ]
  },
  {
   "cell_type": "markdown",
   "metadata": {},
   "source": [
    "Write a function to handle `Turn 0`:"
   ]
  },
  {
   "cell_type": "code",
   "execution_count": 31,
   "metadata": {},
   "outputs": [],
   "source": [
    "from typing import Any\n",
    "\n",
    "def turn_0(res: SimpleNamespace):\n",
    "    s = 'S: are you using a smartphone?'\n",
    "    u = input(s + '\\nU: ')\n",
    "\n",
    "    yn = regex_matcher(res.re_yn, u)\n",
    "    phone = regex_matcher(res.re_phone, u)\n",
    "    res.in_phone_company = phone[0]\n",
    "    res.in_phone_name = phone[1]\n",
    "\n",
    "    if any(phone):\n",
    "        turn_1a(res)\n",
    "    elif yn[0]:\n",
    "        turn_1b(res)\n",
    "    elif yn[1]:\n",
    "        turn_1c(res)\n",
    "\n",
    "    print('S: good bye!')\n",
    "\n",
    "def turn_1a(res: SimpleNamespace):\n",
    "    p = res.in_phone_name if res.in_phone_name else res.in_phone_company\n",
    "    s = 'S: how long have you been using {}?'.format(p)\n",
    "    u = input(s + '\\nU: ')\n",
    "\n",
    "def turn_1b(res: SimpleNamespace):\n",
    "    s = 'S: what kind of smartphone do you have?'\n",
    "    u = input(s + '\\nU: ')\n",
    "    # TODO: to be filled\n",
    "\n",
    "def turn_1c(res: SimpleNamespace):\n",
    "    s = 'really? you should consider getting one.'\n",
    "    print(s)"
   ]
  },
  {
   "cell_type": "code",
   "execution_count": 32,
   "metadata": {},
   "outputs": [
    {
     "name": "stdout",
     "output_type": "stream",
     "text": [
      "S: are you using a smartphone?\n",
      "U: yes, i have an iphone\n"
     ]
    },
    {
     "ename": "NameError",
     "evalue": "name 'regex_matcher' is not defined",
     "output_type": "error",
     "traceback": [
      "\u001b[0;31m---------------------------------------------------------------------------\u001b[0m",
      "\u001b[0;31mNameError\u001b[0m                                 Traceback (most recent call last)",
      "\u001b[0;32m<ipython-input-32-d8d88ddd56e7>\u001b[0m in \u001b[0;36m<module>\u001b[0;34m\u001b[0m\n\u001b[0;32m----> 1\u001b[0;31m \u001b[0mturn_0\u001b[0m\u001b[0;34m(\u001b[0m\u001b[0mres\u001b[0m\u001b[0;34m)\u001b[0m\u001b[0;34m\u001b[0m\u001b[0;34m\u001b[0m\u001b[0m\n\u001b[0m",
      "\u001b[0;32m<ipython-input-31-171c3ee6ecae>\u001b[0m in \u001b[0;36mturn_0\u001b[0;34m(res)\u001b[0m\n\u001b[1;32m      5\u001b[0m     \u001b[0mu\u001b[0m \u001b[0;34m=\u001b[0m \u001b[0minput\u001b[0m\u001b[0;34m(\u001b[0m\u001b[0ms\u001b[0m \u001b[0;34m+\u001b[0m \u001b[0;34m'\\nU: '\u001b[0m\u001b[0;34m)\u001b[0m\u001b[0;34m\u001b[0m\u001b[0;34m\u001b[0m\u001b[0m\n\u001b[1;32m      6\u001b[0m \u001b[0;34m\u001b[0m\u001b[0m\n\u001b[0;32m----> 7\u001b[0;31m     \u001b[0myn\u001b[0m \u001b[0;34m=\u001b[0m \u001b[0mregex_matcher\u001b[0m\u001b[0;34m(\u001b[0m\u001b[0mres\u001b[0m\u001b[0;34m.\u001b[0m\u001b[0mre_yn\u001b[0m\u001b[0;34m,\u001b[0m \u001b[0mu\u001b[0m\u001b[0;34m)\u001b[0m\u001b[0;34m\u001b[0m\u001b[0;34m\u001b[0m\u001b[0m\n\u001b[0m\u001b[1;32m      8\u001b[0m     \u001b[0mphone\u001b[0m \u001b[0;34m=\u001b[0m \u001b[0mregex_matcher\u001b[0m\u001b[0;34m(\u001b[0m\u001b[0mres\u001b[0m\u001b[0;34m.\u001b[0m\u001b[0mre_phone\u001b[0m\u001b[0;34m,\u001b[0m \u001b[0mu\u001b[0m\u001b[0;34m)\u001b[0m\u001b[0;34m\u001b[0m\u001b[0;34m\u001b[0m\u001b[0m\n\u001b[1;32m      9\u001b[0m     \u001b[0mres\u001b[0m\u001b[0;34m.\u001b[0m\u001b[0min_phone_company\u001b[0m \u001b[0;34m=\u001b[0m \u001b[0mphone\u001b[0m\u001b[0;34m[\u001b[0m\u001b[0;36m0\u001b[0m\u001b[0;34m]\u001b[0m\u001b[0;34m\u001b[0m\u001b[0;34m\u001b[0m\u001b[0m\n",
      "\u001b[0;31mNameError\u001b[0m: name 'regex_matcher' is not defined"
     ]
    }
   ],
   "source": [
    "turn_0(res)"
   ]
  },
  {
   "cell_type": "markdown",
   "metadata": {},
   "source": [
    "## Turn 1\n",
    "\n",
    "Given the following question:\n",
    "\n",
    "> S1: how long have you been using iphone?\n",
    "\n",
    "We expect date information from the user."
   ]
  },
  {
   "cell_type": "markdown",
   "metadata": {},
   "source": [
    "### Response: Duration\n",
    "\n",
    "Write a regular expression that captures the duration:"
   ]
  },
  {
   "cell_type": "code",
   "execution_count": 33,
   "metadata": {},
   "outputs": [
    {
     "ename": "NameError",
     "evalue": "name 'regex_matcher' is not defined",
     "output_type": "error",
     "traceback": [
      "\u001b[0;31m---------------------------------------------------------------------------\u001b[0m",
      "\u001b[0;31mNameError\u001b[0m                                 Traceback (most recent call last)",
      "\u001b[0;32m<ipython-input-33-12d532702eec>\u001b[0m in \u001b[0;36m<module>\u001b[0;34m\u001b[0m\n\u001b[1;32m      1\u001b[0m \u001b[0mres\u001b[0m\u001b[0;34m.\u001b[0m\u001b[0mre_duration\u001b[0m \u001b[0;34m=\u001b[0m \u001b[0mre\u001b[0m\u001b[0;34m.\u001b[0m\u001b[0mcompile\u001b[0m\u001b[0;34m(\u001b[0m\u001b[0;34mr'(?:\\s|^)(\\d+)(?:\\s|-)+(month|year)'\u001b[0m\u001b[0;34m)\u001b[0m\u001b[0;34m\u001b[0m\u001b[0;34m\u001b[0m\u001b[0m\n\u001b[1;32m      2\u001b[0m \u001b[0;34m\u001b[0m\u001b[0m\n\u001b[0;32m----> 3\u001b[0;31m \u001b[0mprint\u001b[0m\u001b[0;34m(\u001b[0m\u001b[0mregex_matcher\u001b[0m\u001b[0;34m(\u001b[0m\u001b[0mres\u001b[0m\u001b[0;34m.\u001b[0m\u001b[0mre_duration\u001b[0m\u001b[0;34m,\u001b[0m \u001b[0;34m'about 2 years'\u001b[0m\u001b[0;34m)\u001b[0m\u001b[0;34m)\u001b[0m\u001b[0;34m\u001b[0m\u001b[0;34m\u001b[0m\u001b[0m\n\u001b[0m\u001b[1;32m      4\u001b[0m \u001b[0mprint\u001b[0m\u001b[0;34m(\u001b[0m\u001b[0mregex_matcher\u001b[0m\u001b[0;34m(\u001b[0m\u001b[0mres\u001b[0m\u001b[0;34m.\u001b[0m\u001b[0mre_duration\u001b[0m\u001b[0;34m,\u001b[0m \u001b[0;34m'over 6-months'\u001b[0m\u001b[0;34m)\u001b[0m\u001b[0;34m)\u001b[0m\u001b[0;34m\u001b[0m\u001b[0;34m\u001b[0m\u001b[0m\n\u001b[1;32m      5\u001b[0m \u001b[0mprint\u001b[0m\u001b[0;34m(\u001b[0m\u001b[0mregex_matcher\u001b[0m\u001b[0;34m(\u001b[0m\u001b[0mres\u001b[0m\u001b[0;34m.\u001b[0m\u001b[0mre_duration\u001b[0m\u001b[0;34m,\u001b[0m \u001b[0;34m'almost 1 - year'\u001b[0m\u001b[0;34m)\u001b[0m\u001b[0;34m)\u001b[0m\u001b[0;34m\u001b[0m\u001b[0;34m\u001b[0m\u001b[0m\n",
      "\u001b[0;31mNameError\u001b[0m: name 'regex_matcher' is not defined"
     ]
    }
   ],
   "source": [
    "res.re_duration = re.compile(r'(?:\\s|^)(\\d+)(?:\\s|-)+(month|year)')\n",
    "\n",
    "print(regex_matcher(res.re_duration, 'about 2 years'))\n",
    "print(regex_matcher(res.re_duration, 'over 6-months'))\n",
    "print(regex_matcher(res.re_duration, 'almost 1 - year'))"
   ]
  },
  {
   "cell_type": "markdown",
   "metadata": {},
   "source": [
    "Infer the month and the year of user's phone from the duration:"
   ]
  },
  {
   "cell_type": "code",
   "execution_count": 34,
   "metadata": {},
   "outputs": [
    {
     "ename": "NameError",
     "evalue": "name 'regex_matcher' is not defined",
     "output_type": "error",
     "traceback": [
      "\u001b[0;31m---------------------------------------------------------------------------\u001b[0m",
      "\u001b[0;31mNameError\u001b[0m                                 Traceback (most recent call last)",
      "\u001b[0;32m<ipython-input-34-548b4f4da681>\u001b[0m in \u001b[0;36m<module>\u001b[0;34m\u001b[0m\n\u001b[0;32m----> 1\u001b[0;31m \u001b[0mduration\u001b[0m \u001b[0;34m=\u001b[0m \u001b[0mregex_matcher\u001b[0m\u001b[0;34m(\u001b[0m\u001b[0mres\u001b[0m\u001b[0;34m.\u001b[0m\u001b[0mre_duration\u001b[0m\u001b[0;34m,\u001b[0m \u001b[0;34m'6 months'\u001b[0m\u001b[0;34m)\u001b[0m\u001b[0;34m\u001b[0m\u001b[0;34m\u001b[0m\u001b[0m\n\u001b[0m\u001b[1;32m      2\u001b[0m \u001b[0mres\u001b[0m\u001b[0;34m.\u001b[0m\u001b[0min_phone_year\u001b[0m\u001b[0;34m,\u001b[0m \u001b[0mres\u001b[0m\u001b[0;34m.\u001b[0m\u001b[0min_phone_month\u001b[0m \u001b[0;34m=\u001b[0m \u001b[0;32mNone\u001b[0m\u001b[0;34m,\u001b[0m \u001b[0;36m1\u001b[0m\u001b[0;34m\u001b[0m\u001b[0;34m\u001b[0m\u001b[0m\n\u001b[1;32m      3\u001b[0m \u001b[0mcurr_year\u001b[0m\u001b[0;34m,\u001b[0m \u001b[0mcurr_month\u001b[0m \u001b[0;34m=\u001b[0m \u001b[0;36m2020\u001b[0m\u001b[0;34m,\u001b[0m \u001b[0;36m1\u001b[0m\u001b[0;34m\u001b[0m\u001b[0;34m\u001b[0m\u001b[0m\n\u001b[1;32m      4\u001b[0m \u001b[0;34m\u001b[0m\u001b[0m\n\u001b[1;32m      5\u001b[0m \u001b[0;32mif\u001b[0m \u001b[0mall\u001b[0m\u001b[0;34m(\u001b[0m\u001b[0mduration\u001b[0m\u001b[0;34m)\u001b[0m\u001b[0;34m:\u001b[0m\u001b[0;34m\u001b[0m\u001b[0;34m\u001b[0m\u001b[0m\n",
      "\u001b[0;31mNameError\u001b[0m: name 'regex_matcher' is not defined"
     ]
    }
   ],
   "source": [
    "duration = regex_matcher(res.re_duration, '6 months')\n",
    "res.in_phone_year, res.in_phone_month = None, 1\n",
    "curr_year, curr_month = 2020, 1\n",
    "\n",
    "if all(duration):\n",
    "    d = int(duration[0])\n",
    "    m = duration[1]\n",
    "    if m == 'year':\n",
    "        res.in_phone_year = curr_year - d\n",
    "    elif m == 'month':\n",
    "        res.in_phone_year = curr_year - int(d / 12)\n",
    "        res.in_phone_month = (curr_month - d) % 12\n",
    "\n",
    "print(res.in_phone_year, res.in_phone_month)"
   ]
  },
  {
   "cell_type": "markdown",
   "metadata": {},
   "source": [
    "### Response: From Date\n",
    "\n",
    "Alternatively, the user may response with the from date:"
   ]
  },
  {
   "cell_type": "code",
   "execution_count": 35,
   "metadata": {},
   "outputs": [
    {
     "ename": "NameError",
     "evalue": "name 'regex_matcher' is not defined",
     "output_type": "error",
     "traceback": [
      "\u001b[0;31m---------------------------------------------------------------------------\u001b[0m",
      "\u001b[0;31mNameError\u001b[0m                                 Traceback (most recent call last)",
      "\u001b[0;32m<ipython-input-35-c386b6e93bb6>\u001b[0m in \u001b[0;36m<module>\u001b[0;34m\u001b[0m\n\u001b[1;32m      1\u001b[0m \u001b[0mres\u001b[0m\u001b[0;34m.\u001b[0m\u001b[0mre_from_date\u001b[0m \u001b[0;34m=\u001b[0m \u001b[0mre\u001b[0m\u001b[0;34m.\u001b[0m\u001b[0mcompile\u001b[0m\u001b[0;34m(\u001b[0m\u001b[0;34mr'(?:\\s|^)(?:since|from)\\s(?:(january|february|march|april|may|june|july|august|september|october|november|december)\\s)?(\\d\\d{2,4})'\u001b[0m\u001b[0;34m)\u001b[0m\u001b[0;34m\u001b[0m\u001b[0;34m\u001b[0m\u001b[0m\n\u001b[1;32m      2\u001b[0m \u001b[0;34m\u001b[0m\u001b[0m\n\u001b[0;32m----> 3\u001b[0;31m \u001b[0mprint\u001b[0m\u001b[0;34m(\u001b[0m\u001b[0mregex_matcher\u001b[0m\u001b[0;34m(\u001b[0m\u001b[0mres\u001b[0m\u001b[0;34m.\u001b[0m\u001b[0mre_from_date\u001b[0m\u001b[0;34m,\u001b[0m \u001b[0;34m'since september 2018'\u001b[0m\u001b[0;34m)\u001b[0m\u001b[0;34m)\u001b[0m\u001b[0;34m\u001b[0m\u001b[0;34m\u001b[0m\u001b[0m\n\u001b[0m\u001b[1;32m      4\u001b[0m \u001b[0mprint\u001b[0m\u001b[0;34m(\u001b[0m\u001b[0mregex_matcher\u001b[0m\u001b[0;34m(\u001b[0m\u001b[0mres\u001b[0m\u001b[0;34m.\u001b[0m\u001b[0mre_from_date\u001b[0m\u001b[0;34m,\u001b[0m \u001b[0;34m'from 2017'\u001b[0m\u001b[0;34m)\u001b[0m\u001b[0;34m)\u001b[0m\u001b[0;34m\u001b[0m\u001b[0;34m\u001b[0m\u001b[0m\n",
      "\u001b[0;31mNameError\u001b[0m: name 'regex_matcher' is not defined"
     ]
    }
   ],
   "source": [
    "res.re_from_date = re.compile(r'(?:\\s|^)(?:since|from)\\s(?:(january|february|march|april|may|june|july|august|september|october|november|december)\\s)?(\\d\\d{2,4})')\n",
    "\n",
    "print(regex_matcher(res.re_from_date, 'since september 2018'))\n",
    "print(regex_matcher(res.re_from_date, 'from 2017'))"
   ]
  },
  {
   "cell_type": "markdown",
   "metadata": {},
   "source": [
    "Create a dictionary that maps months in string to their corresponding numbers:"
   ]
  },
  {
   "cell_type": "code",
   "execution_count": 102,
   "metadata": {},
   "outputs": [],
   "source": [
    "res.d_month_to_number = {\n",
    "    month: i for i, month in enumerate(\n",
    "        ['january','february','march','april','may','june',\n",
    "         'july','august','september','october','november','december'], 1)}"
   ]
  },
  {
   "cell_type": "markdown",
   "metadata": {},
   "source": [
    "Store the year and the month of user's phone:"
   ]
  },
  {
   "cell_type": "code",
   "execution_count": 103,
   "metadata": {},
   "outputs": [
    {
     "name": "stdout",
     "output_type": "stream",
     "text": [
      "2018 9\n"
     ]
    }
   ],
   "source": [
    "from_date = regex_matcher(res.re_from_date, 'since september 2018')\n",
    "res.in_phone_year, res.in_phone_month = None, 1\n",
    "\n",
    "if any(from_date):\n",
    "    res.in_phone_year = int(from_date[1])\n",
    "    if res.in_phone_year <= 20: res.in_phone_year += 2000\n",
    "    res.in_phone_month = res.d_month_to_number[from_date[0]] if from_date[0] else 1\n",
    "\n",
    "print(res.in_phone_year, res.in_phone_month)"
   ]
  },
  {
   "cell_type": "markdown",
   "metadata": {},
   "source": [
    "Finally, predict the model "
   ]
  },
  {
   "cell_type": "code",
   "execution_count": 113,
   "metadata": {},
   "outputs": [
    {
     "name": "stdout",
     "output_type": "stream",
     "text": [
      "S: oh, are you using iphone 10s or 10s max?\n",
      "U: no, i'm using iphone 6s plus\n"
     ]
    }
   ],
   "source": [
    "res.d_iphone = {\n",
    "    2019: [(9, ['11', '11 pro', '11 pro max'])], \n",
    "    2018: [(9, ['10s', '10s max'])], \n",
    "    2017: [(11, ['10']), (9, ['8', '8 plus'])], \n",
    "    2016: [(9, ['7', '7 plus'])], \n",
    "    2015: [(9, ['6s', '6s plus'])], \n",
    "    2014: [(9, ['6', '6 plus'])]}\n",
    "\n",
    "r = res.d_iphone.get(res.in_phone_year, None)\n",
    "if r:\n",
    "    v = next(models for month, models in r if month >= res.in_phone_month)\n",
    "    res.in_phone_version = ' or '.join(v)\n",
    "    s = 'S: oh, are you using iphone {}?'.format(res.in_phone_version)\n",
    "    u = input(s + '\\nU: ')"
   ]
  },
  {
   "cell_type": "markdown",
   "metadata": {},
   "source": [
    "### Put Together\n",
    "\n",
    "Write a function to handle `Turn 1a`:"
   ]
  },
  {
   "cell_type": "code",
   "execution_count": 115,
   "metadata": {},
   "outputs": [],
   "source": [
    "def turn_1a(res: SimpleNamespace):\n",
    "    p = res.in_phone_name if res.in_phone_name else res.in_phone_company\n",
    "    s = 'S: how long have you been using {}?'.format(p)\n",
    "    u = input(s + '\\nU: ')\n",
    "\n",
    "    duration = regex_matcher(res.re_duration, u)\n",
    "    from_date = regex_matcher(res.re_from_date, u)\n",
    "\n",
    "    res.in_phone_year, res.in_phone_month = None, 1\n",
    "    curr_year, curr_month = 2020, 1\n",
    "\n",
    "    if all(duration):\n",
    "        d = int(duration[0])\n",
    "        m = duration[1]\n",
    "        if m == 'year':\n",
    "            res.in_phone_year = curr_year - d\n",
    "        elif m == 'month':\n",
    "            res.in_phone_year = curr_year - int(d / 12)\n",
    "            res.in_phone_month = (curr_month - d) % 12\n",
    "    elif any(from_date):\n",
    "        res.in_phone_year = int(from_date[1])\n",
    "        res.in_phone_month = res.d_month_to_number[from_date[0]] if from_date[0] else 1\n",
    "\n",
    "    if res.in_phone_year:\n",
    "        if res.in_phone_name == 'iphone' or res.in_phone_company == 'apple':\n",
    "            turn_2a(res)\n",
    "\n",
    "def turn_2a(res: SimpleNamespace):\n",
    "    r = res.d_iphone.get(res.in_phone_year, None)\n",
    "    res.in_phone_version = None\n",
    "    \n",
    "    if r:\n",
    "        v = next(models for month, models in r if month >= res.in_phone_month)\n",
    "        res.in_phone_version = v\n",
    "        s = 'S: oh, are you using iphone {}?'.format(' or '.join(v))\n",
    "        u = input(s + '\\nU: ')\n",
    "    else:\n",
    "        s = 'S: which version of iphone is your model?'\n",
    "        u = input(s + '\\nU: ')"
   ]
  },
  {
   "cell_type": "code",
   "execution_count": 116,
   "metadata": {},
   "outputs": [
    {
     "name": "stdout",
     "output_type": "stream",
     "text": [
      "S: are you using a smartphone?\n",
      "U: yes, i have an iphone\n",
      "S: how long have you been using iphone?\n",
      "U: about 2 years\n",
      "S: oh, are you using iphone 10s or 10s max?\n",
      "U: no, i'm using iphone 6s plus\n",
      "S: good bye!\n"
     ]
    }
   ],
   "source": [
    "turn_0(res)"
   ]
  },
  {
   "cell_type": "markdown",
   "metadata": {},
   "source": [
    "## Turn 2\n",
    "\n",
    "Given the following question:\n",
    "\n",
    "> S2: oh, are you using iphone 10s or 10s max?\n",
    "\n",
    "We expect the user would response with the specific version of the phone"
   ]
  },
  {
   "cell_type": "markdown",
   "metadata": {},
   "source": [
    "### Response: Phone Version\n",
    "\n",
    "Write a regular expression to extract the version of iPhone:"
   ]
  },
  {
   "cell_type": "code",
   "execution_count": 119,
   "metadata": {},
   "outputs": [
    {
     "name": "stdout",
     "output_type": "stream",
     "text": [
      "['6s plus']\n",
      "['12']\n"
     ]
    }
   ],
   "source": [
    "res.re_iphone_version = re.compile(r'(?:\\s|^)(?:iphone|version)\\s(\\d+s?(?: (?:plus|max))?)(?:\\s|,|\\.|$)')\n",
    "\n",
    "print(regex_matcher(res.re_iphone_version, 'iphone 6s plus'))\n",
    "print(regex_matcher(res.re_iphone_version, 'version 12'))"
   ]
  },
  {
   "cell_type": "code",
   "execution_count": 125,
   "metadata": {},
   "outputs": [],
   "source": [
    "def turn_2a(res: SimpleNamespace):\n",
    "    r = res.d_iphone.get(res.in_phone_year, None)\n",
    "    res.in_phone_version = None\n",
    "\n",
    "    if r:\n",
    "        v = next(models for month, models in r if month >= res.in_phone_month)\n",
    "        res.in_phone_version = v[0]\n",
    "        s = 'S: oh, are you using iphone {}?'.format(' or '.join(v))\n",
    "        u = input(s + '\\nU: ')\n",
    "\n",
    "        yn = regex_matcher(res.re_yn, u)\n",
    "        if yn[1]: res.in_phone_version = None\n",
    "    else:\n",
    "        s = 'S: which version of iphone is your model?'\n",
    "        u = input(s + '\\nU: ')\n",
    "\n",
    "    version = regex_matcher(res.re_iphone_version, u)\n",
    "    if version[0]: res.in_phone_version = version[0]\n",
    "    if res.in_phone_version: turn_3a(res)\n",
    "\n",
    "def turn_3a(res: SimpleNamespace):\n",
    "    # TODO: to be filled\n",
    "    old = 5\n",
    "    s = 'S: iphone {} is about {} years old'.format(res.in_phone_version, old)\n",
    "    print(s)"
   ]
  },
  {
   "cell_type": "code",
   "execution_count": 126,
   "metadata": {},
   "outputs": [
    {
     "name": "stdout",
     "output_type": "stream",
     "text": [
      "S: are you using a smartphone?\n",
      "U: yes, i have an iphone\n",
      "S: how long have you been using iphone?\n",
      "U: about 2 years\n",
      "S: oh, are you using iphone 10s or 10s max?\n",
      "U: no, i'm using iphone 6s plus\n",
      "S: iphone 6s plus is about 5 years old\n",
      "S: good bye!\n"
     ]
    }
   ],
   "source": [
    "turn_0(res)"
   ]
  },
  {
   "cell_type": "markdown",
   "metadata": {},
   "source": [
    "## References\n",
    "\n",
    "* https://www.regular-expressions.info/tutorial.html\n",
    "* https://regex101.com"
   ]
  }
 ],
 "metadata": {
  "kernelspec": {
   "display_name": "Python 3",
   "language": "python",
   "name": "python3"
  },
  "language_info": {
   "codemirror_mode": {
    "name": "ipython",
    "version": 3
   },
   "file_extension": ".py",
   "mimetype": "text/x-python",
   "name": "python",
   "nbconvert_exporter": "python",
   "pygments_lexer": "ipython3",
   "version": "3.7.4"
  },
  "pycharm": {
   "stem_cell": {
    "cell_type": "raw",
    "source": [],
    "metadata": {
     "collapsed": false
    }
   }
  }
 },
 "nbformat": 4,
 "nbformat_minor": 4
}