{
  "cells": [
    {
      "cell_type": "markdown",
      "metadata": {
        "pycharm": {}
      },
      "source": [
        "# Dialogue Management"
      ]
    },
    {
      "cell_type": "markdown",
      "metadata": {
        "pycharm": {
          "metadata": false
        }
      },
      "source": [
        "## Two major components "
      ]
    },
    {
      "cell_type": "markdown",
      "metadata": {
        "pycharm": {}
      },
      "source": [
        "1. Understand what the user is saying"
      ]
    },
    {
      "cell_type": "markdown",
      "metadata": {
        "pycharm": {}
      },
      "source": [
        "2. Decide what to say in response"
      ]
    },
    {
      "cell_type": "markdown",
      "metadata": {
        "pycharm": {}
      },
      "source": [
        "## Language Understanding "
      ]
    },
    {
      "cell_type": "markdown",
      "metadata": {
        "pycharm": {}
      },
      "source": [
        "So far, we have been working with regular expressions."
      ]
    },
    {
      "cell_type": "markdown",
      "metadata": {
        "pycharm": {}
      },
      "source": [
        "Regular expressions are one technique we can use to program language understanding into a dialogue agent. "
      ]
    },
    {
      "cell_type": "markdown",
      "metadata": {
        "pycharm": {}
      },
      "source": [
        "We define what the agent understands by creating regular expressions."
      ]
    },
    {
      "cell_type": "markdown",
      "metadata": {
        "pycharm": {}
      },
      "source": [
        "The agent will understand what a user says if it matches the regular expression that is programmed."
      ]
    },
    {
      "cell_type": "markdown",
      "metadata": {
        "pycharm": {}
      },
      "source": [
        "If we take the phone type example from earlier:"
      ]
    },
    {
      "cell_type": "code",
      "execution_count": 2,
      "metadata": {
        "pycharm": {}
      },
      "outputs": [
        {
          "name": "stdout",
          "output_type": "stream",
          "text": [
            "[None, \u0027iphone\u0027]\n",
            "[\u0027google\u0027, \u0027pixel\u0027]\n",
            "[None, \u0027galaxy\u0027]\n"
          ]
        }
      ],
      "source": [
        "import re\n",
        "from typing import List\n",
        "from re import Pattern\n",
        "\n",
        "def regex_matcher(regex: Pattern, instr: str) -\u003e List[str]:\n",
        "    ts \u003d [None] * regex.groups\n",
        "    \n",
        "    for t in regex.findall(instr):\n",
        "        if isinstance(t, str): t \u003d [t]\n",
        "        for i, literal in enumerate(t):\n",
        "            if ts[i] is None and literal:\n",
        "                ts[i] \u003d literal\n",
        "    \n",
        "    return ts\n",
        "\n",
        "re_phone \u003d re.compile(r\u0027(?:\\s|^)(apple|google|samsung)|(iphone|pixel|galaxy|android)(?:\\s|,|\\.|$)\u0027)\n",
        "\n",
        "print(regex_matcher(re_phone, \u0027yes I have an iphone\u0027))\n",
        "print(regex_matcher(re_phone, \u0027yes I have google pixel\u0027))\n",
        "print(regex_matcher(re_phone, \u0027yes I have a galaxy phone\u0027))"
      ]
    },
    {
      "cell_type": "markdown",
      "metadata": {
        "pycharm": {}
      },
      "source": [
        "We have programmed an agent that can understand when the user is sharing the type of phone that they have by recognizing the different companies and phone models."
      ]
    },
    {
      "cell_type": "markdown",
      "metadata": {
        "pycharm": {}
      },
      "source": [
        "Using the regular expression grouping capability, we can also specify what pieces of information we want the dialogue agent to extract if the user shares them."
      ]
    },
    {
      "cell_type": "markdown",
      "metadata": {
        "pycharm": {}
      },
      "source": [
        "For the phone type example, we are programming the dialogue agent to pick out the company name and the phone model name in such a way that this information can be stored and accessed later. "
      ]
    },
    {
      "cell_type": "markdown",
      "metadata": {
        "pycharm": {}
      },
      "source": [
        "It is important for dialogue agents to have this memory ability in order to make coherent responses to what the user says."
      ]
    },
    {
      "cell_type": "markdown",
      "metadata": {
        "pycharm": {}
      },
      "source": [
        "## Response Generation"
      ]
    },
    {
      "cell_type": "markdown",
      "metadata": {
        "pycharm": {}
      },
      "source": [
        "Each utterance that a user says affects the dialogue situation that the agent is currently in. "
      ]
    },
    {
      "cell_type": "markdown",
      "metadata": {
        "pycharm": {}
      },
      "source": [
        "Depending on what the user says, we want the agent to be able to make different responses that make sense for the particular state of the dialogue."
      ]
    },
    {
      "cell_type": "markdown",
      "metadata": {
        "pycharm": {}
      },
      "source": [
        "If we take the starting turn of the phone conversation as an example:"
      ]
    },
    {
      "cell_type": "code",
      "execution_count": 4,
      "metadata": {
        "pycharm": {}
      },
      "outputs": [],
      "source": [
        "from typing import Any\n",
        "from types import SimpleNamespace\n",
        "\n",
        "def turn_0(res: SimpleNamespace):\n",
        "    s \u003d \u0027S: are you using a smartphone?\u0027\n",
        "    u \u003d input(s + \u0027\\nU: \u0027)\n",
        "\n",
        "    yn \u003d regex_matcher(res.re_yn, u)\n",
        "    phone \u003d regex_matcher(res.re_phone, u)\n",
        "    res.in_phone_company \u003d phone[0]\n",
        "    res.in_phone_name \u003d phone[1]\n",
        "\n",
        "    if any(phone):\n",
        "        turn_1a(res)\n",
        "    elif yn[0]:\n",
        "        turn_1b(res)\n",
        "    elif yn[1]:\n",
        "        turn_1c(res)\n",
        "\n",
        "    print(\u0027S: good bye!\u0027)"
      ]
    },
    {
      "cell_type": "markdown",
      "metadata": {
        "pycharm": {}
      },
      "source": [
        "There are three different dialogue states that we can be in, depending on what the user says in response to our question."
      ]
    },
    {
      "cell_type": "markdown",
      "metadata": {
        "pycharm": {}
      },
      "source": [
        "1. The user has shared the particular type of phone that they have"
      ]
    },
    {
      "cell_type": "markdown",
      "metadata": {
        "pycharm": {}
      },
      "source": [
        "2. The user has said yes to using a smartphone, but not specified a type"
      ]
    },
    {
      "cell_type": "markdown",
      "metadata": {
        "pycharm": {}
      },
      "source": [
        "3. The user has said no to using a smartphone"
      ]
    },
    {
      "cell_type": "markdown",
      "metadata": {
        "pycharm": {}
      },
      "source": [
        "In each of these cases, the agent should take a different course of action when responding to the user."
      ]
    },
    {
      "cell_type": "markdown",
      "metadata": {
        "pycharm": {}
      },
      "source": [
        "Since the amount of information that the agent knows about the user is different, its interactions should be tailored to these different situations in order to hold a fluent and natural conversation."
      ]
    },
    {
      "cell_type": "markdown",
      "metadata": {
        "pycharm": {}
      },
      "source": [
        "So far, we have been using conditional statements to make these dialogue decisions."
      ]
    },
    {
      "cell_type": "markdown",
      "metadata": {
        "pycharm": {}
      },
      "source": [
        "## Dialogue State Machine"
      ]
    },
    {
      "cell_type": "markdown",
      "metadata": {
        "pycharm": {}
      },
      "source": [
        "There is name for this approach to dialogue: State Machine. "
      ]
    },
    {
      "cell_type": "markdown",
      "metadata": {
        "pycharm": {}
      },
      "source": [
        "State Machines are used to model many different processes, including dialogue. "
      ]
    },
    {
      "cell_type": "markdown",
      "metadata": {
        "pycharm": {}
      },
      "source": [
        "Anything that can be thought of as consisting of a sequence of actions resulting in different situations can be modelled as a State Machine."
      ]
    },
    {
      "cell_type": "markdown",
      "metadata": {
        "pycharm": {}
      },
      "source": [
        "There are two major components of a State Machine:"
      ]
    },
    {
      "cell_type": "markdown",
      "metadata": {
        "pycharm": {}
      },
      "source": [
        "### 1. States"
      ]
    },
    {
      "cell_type": "markdown",
      "metadata": {
        "pycharm": {}
      },
      "source": [
        "* Describe a specific point/situation in the process being defined "
      ]
    },
    {
      "cell_type": "markdown",
      "metadata": {
        "pycharm": {}
      },
      "source": [
        "### 2. Transitions"
      ]
    },
    {
      "cell_type": "markdown",
      "metadata": {
        "pycharm": {}
      },
      "source": [
        "* Actions to move from one state to another"
      ]
    },
    {
      "cell_type": "markdown",
      "metadata": {
        "pycharm": {}
      },
      "source": [
        "For dialogue, "
      ]
    },
    {
      "cell_type": "markdown",
      "metadata": {
        "pycharm": {}
      },
      "source": [
        "* transitions are the language being exchanged back and forth from either the agent or the user"
      ]
    },
    {
      "cell_type": "markdown",
      "metadata": {
        "pycharm": {}
      },
      "source": [
        "* states are the different situations that result from specific sequences of language."
      ]
    },
    {
      "cell_type": "markdown",
      "metadata": {
        "pycharm": {}
      },
      "source": [
        "Below is a State Machine of the phone conversation we have been working with. "
      ]
    },
    {
      "cell_type": "markdown",
      "metadata": {
        "pycharm": {}
      },
      "source": [
        "* S marks states where the system is giving a response."
      ]
    },
    {
      "cell_type": "markdown",
      "metadata": {
        "pycharm": {}
      },
      "source": [
        "* U marks states where the user is giving a response. "
      ]
    },
    {
      "cell_type": "markdown",
      "metadata": {
        "pycharm": {}
      },
      "source": [
        "* The arrows show the response (or an approximation of it) that takes you from one state to another."
      ]
    },
    {
      "cell_type": "markdown",
      "metadata": {
        "pycharm": {}
      },
      "source": [
        "\u003cimg src\u003d\"res/whole_conv.jpg\" /\u003e"
      ]
    },
    {
      "cell_type": "markdown",
      "metadata": {
        "pycharm": {}
      },
      "source": [
        "We will be using a python package that provides a straightforward interface for making state machines for dialogue."
      ]
    },
    {
      "cell_type": "markdown",
      "metadata": {
        "pycharm": {}
      },
      "source": [
        "Documentation and installation instructions can be found here: https://pypi.org/project/emora-stdm/"
      ]
    },
    {
      "cell_type": "markdown",
      "metadata": {
        "pycharm": {}
      },
      "source": [
        "In this package, a state machine for dialogue is called a DialogueFlow."
      ]
    },
    {
      "cell_type": "markdown",
      "metadata": {
        "pycharm": {}
      },
      "source": [
        "Here is a simple example:"
      ]
    },
    {
      "cell_type": "code",
      "execution_count": 48,
      "metadata": {
        "pycharm": {}
      },
      "outputs": [
        {
          "name": "stdout",
          "output_type": "stream",
          "text": [
            "S: do you have a son\n",
            "U: yes\n",
            "S: thats great i wish i had a son\n",
            "U: ok\n",
            "S: do you have a brother\n"
          ]
        },
        {
          "ename": "KeyboardInterrupt",
          "evalue": "",
          "output_type": "error",
          "traceback": [
            "\u001b[0;31m---------------------------------------------------------------------------\u001b[0m",
            "\u001b[0;31mKeyboardInterrupt\u001b[0m                         Traceback (most recent call last)",
            "\u001b[0;32m/anaconda2/envs/emora_cobot_env/lib/python3.7/site-packages/ipykernel/kernelbase.py\u001b[0m in \u001b[0;36m_input_request\u001b[0;34m(self, prompt, ident, parent, password)\u001b[0m\n\u001b[1;32m    883\u001b[0m             \u001b[0;32mtry\u001b[0m\u001b[0;34m:\u001b[0m\u001b[0;34m\u001b[0m\u001b[0;34m\u001b[0m\u001b[0m\n\u001b[0;32m--\u003e 884\u001b[0;31m                 \u001b[0mident\u001b[0m\u001b[0;34m,\u001b[0m \u001b[0mreply\u001b[0m \u001b[0;34m\u003d\u001b[0m \u001b[0mself\u001b[0m\u001b[0;34m.\u001b[0m\u001b[0msession\u001b[0m\u001b[0;34m.\u001b[0m\u001b[0mrecv\u001b[0m\u001b[0;34m(\u001b[0m\u001b[0mself\u001b[0m\u001b[0;34m.\u001b[0m\u001b[0mstdin_socket\u001b[0m\u001b[0;34m,\u001b[0m \u001b[0;36m0\u001b[0m\u001b[0;34m)\u001b[0m\u001b[0;34m\u001b[0m\u001b[0;34m\u001b[0m\u001b[0m\n\u001b[0m\u001b[1;32m    885\u001b[0m             \u001b[0;32mexcept\u001b[0m \u001b[0mException\u001b[0m\u001b[0;34m:\u001b[0m\u001b[0;34m\u001b[0m\u001b[0;34m\u001b[0m\u001b[0m\n",
            "\u001b[0;32m/anaconda2/envs/emora_cobot_env/lib/python3.7/site-packages/jupyter_client/session.py\u001b[0m in \u001b[0;36mrecv\u001b[0;34m(self, socket, mode, content, copy)\u001b[0m\n\u001b[1;32m    802\u001b[0m         \u001b[0;32mtry\u001b[0m\u001b[0;34m:\u001b[0m\u001b[0;34m\u001b[0m\u001b[0;34m\u001b[0m\u001b[0m\n\u001b[0;32m--\u003e 803\u001b[0;31m             \u001b[0mmsg_list\u001b[0m \u001b[0;34m\u003d\u001b[0m \u001b[0msocket\u001b[0m\u001b[0;34m.\u001b[0m\u001b[0mrecv_multipart\u001b[0m\u001b[0;34m(\u001b[0m\u001b[0mmode\u001b[0m\u001b[0;34m,\u001b[0m \u001b[0mcopy\u001b[0m\u001b[0;34m\u003d\u001b[0m\u001b[0mcopy\u001b[0m\u001b[0;34m)\u001b[0m\u001b[0;34m\u001b[0m\u001b[0;34m\u001b[0m\u001b[0m\n\u001b[0m\u001b[1;32m    804\u001b[0m         \u001b[0;32mexcept\u001b[0m \u001b[0mzmq\u001b[0m\u001b[0;34m.\u001b[0m\u001b[0mZMQError\u001b[0m \u001b[0;32mas\u001b[0m \u001b[0me\u001b[0m\u001b[0;34m:\u001b[0m\u001b[0;34m\u001b[0m\u001b[0;34m\u001b[0m\u001b[0m\n",
            "\u001b[0;32m/anaconda2/envs/emora_cobot_env/lib/python3.7/site-packages/zmq/sugar/socket.py\u001b[0m in \u001b[0;36mrecv_multipart\u001b[0;34m(self, flags, copy, track)\u001b[0m\n\u001b[1;32m    474\u001b[0m         \"\"\"\n\u001b[0;32m--\u003e 475\u001b[0;31m         \u001b[0mparts\u001b[0m \u001b[0;34m\u003d\u001b[0m \u001b[0;34m[\u001b[0m\u001b[0mself\u001b[0m\u001b[0;34m.\u001b[0m\u001b[0mrecv\u001b[0m\u001b[0;34m(\u001b[0m\u001b[0mflags\u001b[0m\u001b[0;34m,\u001b[0m \u001b[0mcopy\u001b[0m\u001b[0;34m\u003d\u001b[0m\u001b[0mcopy\u001b[0m\u001b[0;34m,\u001b[0m \u001b[0mtrack\u001b[0m\u001b[0;34m\u003d\u001b[0m\u001b[0mtrack\u001b[0m\u001b[0;34m)\u001b[0m\u001b[0;34m]\u001b[0m\u001b[0;34m\u001b[0m\u001b[0;34m\u001b[0m\u001b[0m\n\u001b[0m\u001b[1;32m    476\u001b[0m         \u001b[0;31m# have first part already, only loop while more to receive\u001b[0m\u001b[0;34m\u001b[0m\u001b[0;34m\u001b[0m\u001b[0;34m\u001b[0m\u001b[0m\n",
            "\u001b[0;32mzmq/backend/cython/socket.pyx\u001b[0m in \u001b[0;36mzmq.backend.cython.socket.Socket.recv\u001b[0;34m()\u001b[0m\n",
            "\u001b[0;32mzmq/backend/cython/socket.pyx\u001b[0m in \u001b[0;36mzmq.backend.cython.socket.Socket.recv\u001b[0;34m()\u001b[0m\n",
            "\u001b[0;32mzmq/backend/cython/socket.pyx\u001b[0m in \u001b[0;36mzmq.backend.cython.socket._recv_copy\u001b[0;34m()\u001b[0m\n",
            "\u001b[0;32m/anaconda2/envs/emora_cobot_env/lib/python3.7/site-packages/zmq/backend/cython/checkrc.pxd\u001b[0m in \u001b[0;36mzmq.backend.cython.checkrc._check_rc\u001b[0;34m()\u001b[0m\n",
            "\u001b[0;31mKeyboardInterrupt\u001b[0m: ",
            "\nDuring handling of the above exception, another exception occurred:\n",
            "\u001b[0;31mKeyboardInterrupt\u001b[0m                         Traceback (most recent call last)",
            "\u001b[0;32m\u003cipython-input-48-95e60b5e1781\u003e\u001b[0m in \u001b[0;36m\u003cmodule\u003e\u001b[0;34m\u001b[0m\n\u001b[1;32m     26\u001b[0m \u001b[0mdf\u001b[0m\u001b[0;34m.\u001b[0m\u001b[0mset_error_successor\u001b[0m\u001b[0;34m(\u001b[0m\u001b[0mState\u001b[0m\u001b[0;34m.\u001b[0m\u001b[0mWHATEV\u001b[0m\u001b[0;34m,\u001b[0m \u001b[0mState\u001b[0m\u001b[0;34m.\u001b[0m\u001b[0mSTART\u001b[0m\u001b[0;34m)\u001b[0m\u001b[0;34m\u001b[0m\u001b[0;34m\u001b[0m\u001b[0m\n\u001b[1;32m     27\u001b[0m \u001b[0;34m\u001b[0m\u001b[0m\n\u001b[0;32m---\u003e 28\u001b[0;31m \u001b[0mdf\u001b[0m\u001b[0;34m.\u001b[0m\u001b[0mrun\u001b[0m\u001b[0;34m(\u001b[0m\u001b[0mdebugging\u001b[0m\u001b[0;34m\u003d\u001b[0m\u001b[0;32mFalse\u001b[0m\u001b[0;34m)\u001b[0m\u001b[0;34m\u001b[0m\u001b[0;34m\u001b[0m\u001b[0m\n\u001b[0m",
            "\u001b[0;32m/anaconda2/envs/emora_cobot_env/lib/python3.7/site-packages/emora_stdm/state_transition_dialogue_manager/dialogue_flow.py\u001b[0m in \u001b[0;36mrun\u001b[0;34m(self, debugging)\u001b[0m\n\u001b[1;32m     56\u001b[0m                 \u001b[0mprint\u001b[0m\u001b[0;34m(\u001b[0m\u001b[0;34m\"S:\"\u001b[0m\u001b[0;34m,\u001b[0m \u001b[0mself\u001b[0m\u001b[0;34m.\u001b[0m\u001b[0msystem_turn\u001b[0m\u001b[0;34m(\u001b[0m\u001b[0mdebugging\u001b[0m\u001b[0;34m\u003d\u001b[0m\u001b[0mdebugging\u001b[0m\u001b[0;34m)\u001b[0m\u001b[0;34m)\u001b[0m\u001b[0;34m\u001b[0m\u001b[0;34m\u001b[0m\u001b[0m\n\u001b[1;32m     57\u001b[0m             \u001b[0;32melse\u001b[0m\u001b[0;34m:\u001b[0m\u001b[0;34m\u001b[0m\u001b[0;34m\u001b[0m\u001b[0m\n\u001b[0;32m---\u003e 58\u001b[0;31m                 \u001b[0muser_input\u001b[0m \u001b[0;34m\u003d\u001b[0m \u001b[0minput\u001b[0m\u001b[0;34m(\u001b[0m\u001b[0;34m\"U: \"\u001b[0m\u001b[0;34m)\u001b[0m\u001b[0;34m\u001b[0m\u001b[0;34m\u001b[0m\u001b[0m\n\u001b[0m\u001b[1;32m     59\u001b[0m                 \u001b[0mself\u001b[0m\u001b[0;34m.\u001b[0m\u001b[0muser_turn\u001b[0m\u001b[0;34m(\u001b[0m\u001b[0muser_input\u001b[0m\u001b[0;34m,\u001b[0m \u001b[0mdebugging\u001b[0m\u001b[0;34m\u003d\u001b[0m\u001b[0mdebugging\u001b[0m\u001b[0;34m)\u001b[0m\u001b[0;34m\u001b[0m\u001b[0;34m\u001b[0m\u001b[0m\n\u001b[1;32m     60\u001b[0m \u001b[0;34m\u001b[0m\u001b[0m\n",
            "\u001b[0;32m/anaconda2/envs/emora_cobot_env/lib/python3.7/site-packages/ipykernel/kernelbase.py\u001b[0m in \u001b[0;36mraw_input\u001b[0;34m(self, prompt)\u001b[0m\n\u001b[1;32m    857\u001b[0m             \u001b[0mself\u001b[0m\u001b[0;34m.\u001b[0m\u001b[0m_parent_ident\u001b[0m\u001b[0;34m,\u001b[0m\u001b[0;34m\u001b[0m\u001b[0;34m\u001b[0m\u001b[0m\n\u001b[1;32m    858\u001b[0m             \u001b[0mself\u001b[0m\u001b[0;34m.\u001b[0m\u001b[0m_parent_header\u001b[0m\u001b[0;34m,\u001b[0m\u001b[0;34m\u001b[0m\u001b[0;34m\u001b[0m\u001b[0m\n\u001b[0;32m--\u003e 859\u001b[0;31m             \u001b[0mpassword\u001b[0m\u001b[0;34m\u003d\u001b[0m\u001b[0;32mFalse\u001b[0m\u001b[0;34m,\u001b[0m\u001b[0;34m\u001b[0m\u001b[0;34m\u001b[0m\u001b[0m\n\u001b[0m\u001b[1;32m    860\u001b[0m         )\n\u001b[1;32m    861\u001b[0m \u001b[0;34m\u001b[0m\u001b[0m\n",
            "\u001b[0;32m/anaconda2/envs/emora_cobot_env/lib/python3.7/site-packages/ipykernel/kernelbase.py\u001b[0m in \u001b[0;36m_input_request\u001b[0;34m(self, prompt, ident, parent, password)\u001b[0m\n\u001b[1;32m    887\u001b[0m             \u001b[0;32mexcept\u001b[0m \u001b[0mKeyboardInterrupt\u001b[0m\u001b[0;34m:\u001b[0m\u001b[0;34m\u001b[0m\u001b[0;34m\u001b[0m\u001b[0m\n\u001b[1;32m    888\u001b[0m                 \u001b[0;31m# re-raise KeyboardInterrupt, to truncate traceback\u001b[0m\u001b[0;34m\u001b[0m\u001b[0;34m\u001b[0m\u001b[0;34m\u001b[0m\u001b[0m\n\u001b[0;32m--\u003e 889\u001b[0;31m                 \u001b[0;32mraise\u001b[0m \u001b[0mKeyboardInterrupt\u001b[0m\u001b[0;34m\u001b[0m\u001b[0;34m\u001b[0m\u001b[0m\n\u001b[0m\u001b[1;32m    890\u001b[0m             \u001b[0;32melse\u001b[0m\u001b[0;34m:\u001b[0m\u001b[0;34m\u001b[0m\u001b[0;34m\u001b[0m\u001b[0m\n\u001b[1;32m    891\u001b[0m                 \u001b[0;32mbreak\u001b[0m\u001b[0;34m\u001b[0m\u001b[0;34m\u001b[0m\u001b[0m\n",
            "\u001b[0;31mKeyboardInterrupt\u001b[0m: "
          ]
        }
      ],
      "source": [
        "from emora_stdm import DialogueFlow\n",
        "from enum import Enum\n",
        "\n",
        "# states are typically represented as an enum\n",
        "class State(Enum):\n",
        "    START \u003d 0\n",
        "    FAM_ANS \u003d 1\n",
        "    FAM_Y \u003d 2\n",
        "    FAM_N \u003d 3\n",
        "    FAM_ERR \u003d 4\n",
        "    WHATEV \u003d 5\n",
        "\n",
        "# initialize the DialogueFlow object, which uses a state-machine to manage dialogue\n",
        "df \u003d DialogueFlow(State.START)\n",
        "\n",
        "# add transitions to create an arbitrary graph for the state machine\n",
        "df.add_system_transition(State.START, State.FAM_ANS, \u0027[!do you have a $F\u003d{brother, sister, son, daughter, cousin}]\u0027)\n",
        "df.add_user_transition(State.FAM_ANS, State.FAM_Y, \u0027[{yes, yea, yup, yep, i do, yeah}]\u0027)\n",
        "\n",
        "df.add_user_transition(State.FAM_ANS, State.FAM_N, \u0027[{no, nope}]\u0027)\n",
        "df.add_system_transition(State.FAM_Y, State.WHATEV, \u0027thats great i wish i had a $F\u0027)\n",
        "\n",
        "df.add_system_transition(State.FAM_N, State.WHATEV, \u0027ok then\u0027)\n",
        "df.add_system_transition(State.FAM_ERR, State.WHATEV, \u0027im not sure i understand\u0027)\n",
        "\n",
        "# each state that will be reached on the user turn should define an error transition if no other transition matches\n",
        "df.set_error_successor(State.FAM_ANS, State.FAM_ERR)\n",
        "df.set_error_successor(State.WHATEV, State.START)\n",
        "\n",
        "df.run(debugging\u003dFalse)"
      ]
    },
    {
      "cell_type": "markdown",
      "metadata": {
        "pycharm": {}
      },
      "source": [
        "Since we have been focusing on regular expressions up until this point, the first thing we will discuss is how to specify the language expression for each transition between states in the package `emora-stdm`."
      ]
    },
    {
      "cell_type": "markdown",
      "metadata": {
        "pycharm": {}
      },
      "source": [
        "It uses a modified version of regular expressions - called `NatEx` - which simplifies much of the syntax, but ultimately the expression that you write is translated into a regular expression."
      ]
    },
    {
      "cell_type": "markdown",
      "metadata": {
        "pycharm": {}
      },
      "source": [
        "## NatEx"
      ]
    },
    {
      "cell_type": "markdown",
      "metadata": {
        "pycharm": {}
      },
      "source": [
        "### Literal\n",
        "```\n",
        "\u0027well hello\u0027\n",
        "```\n",
        "directly match a literal substring"
      ]
    },
    {
      "cell_type": "code",
      "execution_count": 61,
      "metadata": {
        "pycharm": {}
      },
      "outputs": [],
      "source": [
        "from emora_stdm import NatexNLU\n",
        "\n",
        "natex_nlu \u003d NatexNLU(\u0027well hello\u0027)"
      ]
    },
    {
      "cell_type": "code",
      "execution_count": 51,
      "metadata": {
        "pycharm": {}
      },
      "outputs": [
        {
          "name": "stdout",
          "output_type": "stream",
          "text": [
            "\u003cregex.Match object; span\u003d(0, 10), match\u003d\u0027well hello\u0027\u003e\n"
          ]
        }
      ],
      "source": [
        "print(natex_nlu.match(\u0027well hello\u0027, debugging\u003dFalse))"
      ]
    },
    {
      "cell_type": "code",
      "execution_count": 52,
      "metadata": {
        "pycharm": {}
      },
      "outputs": [
        {
          "name": "stdout",
          "output_type": "stream",
          "text": [
            "None\n"
          ]
        }
      ],
      "source": [
        "print(natex_nlu.match(\u0027well hi\u0027, debugging\u003dFalse))"
      ]
    },
    {
      "cell_type": "code",
      "execution_count": 62,
      "metadata": {
        "pycharm": {}
      },
      "outputs": [
        {
          "name": "stdout",
          "output_type": "stream",
          "text": [
            "None\n"
          ]
        }
      ],
      "source": [
        "print(natex_nlu.match(\u0027well hello there\u0027, debugging\u003dFalse))"
      ]
    },
    {
      "cell_type": "markdown",
      "metadata": {
        "pycharm": {}
      },
      "source": [
        "### Disjunction\n",
        "```\n",
        "\u0027{hi, hello}\u0027\n",
        "```\n",
        "matches a substring containing exactly one term inside `{}`. In this case,\n",
        "\"hi\" and \"hello\" both match."
      ]
    },
    {
      "cell_type": "code",
      "execution_count": 54,
      "metadata": {
        "pycharm": {}
      },
      "outputs": [],
      "source": [
        "natex_nlu \u003d NatexNLU(\u0027{hi, hello}\u0027)"
      ]
    },
    {
      "cell_type": "code",
      "execution_count": 55,
      "metadata": {
        "pycharm": {}
      },
      "outputs": [
        {
          "name": "stdout",
          "output_type": "stream",
          "text": [
            "\u003cregex.Match object; span\u003d(0, 2), match\u003d\u0027hi\u0027\u003e\n"
          ]
        }
      ],
      "source": [
        "print(natex_nlu.match(\u0027hi\u0027, debugging\u003dFalse))"
      ]
    },
    {
      "cell_type": "code",
      "execution_count": 56,
      "metadata": {
        "pycharm": {}
      },
      "outputs": [
        {
          "name": "stdout",
          "output_type": "stream",
          "text": [
            "\u003cregex.Match object; span\u003d(0, 5), match\u003d\u0027hello\u0027\u003e\n"
          ]
        }
      ],
      "source": [
        "print(natex_nlu.match(\u0027hello\u0027, debugging\u003dFalse))"
      ]
    },
    {
      "cell_type": "code",
      "execution_count": 203,
      "metadata": {
        "pycharm": {}
      },
      "outputs": [
        {
          "name": "stdout",
          "output_type": "stream",
          "text": [
            "None\n"
          ]
        }
      ],
      "source": [
        "print(natex_nlu.match(\u0027hi hello\u0027, debugging\u003dFalse))"
      ]
    },
    {
      "cell_type": "code",
      "execution_count": 204,
      "metadata": {
        "pycharm": {}
      },
      "outputs": [
        {
          "name": "stdout",
          "output_type": "stream",
          "text": [
            "None\n"
          ]
        }
      ],
      "source": [
        "print(natex_nlu.match(\u0027hey\u0027, debugging\u003dFalse))"
      ]
    },
    {
      "cell_type": "code",
      "execution_count": 205,
      "metadata": {
        "pycharm": {}
      },
      "outputs": [
        {
          "name": "stdout",
          "output_type": "stream",
          "text": [
            "None\n"
          ]
        }
      ],
      "source": [
        "print(natex_nlu.match(\u0027hi everyone\u0027, debugging\u003dFalse))"
      ]
    },
    {
      "cell_type": "markdown",
      "metadata": {
        "pycharm": {}
      },
      "source": [
        "### Conjunction\n",
        "```\n",
        "\u0027\u003ceveryone, hi\u003e\u0027\n",
        "```\n",
        "matches a substring that contains at least all terms inside `\u003c\u003e`. In this case, \"hi everyone\" and \"oh well hi there everyone\" both would match, but not\n",
        "\"hi\"."
      ]
    },
    {
      "cell_type": "code",
      "execution_count": 57,
      "metadata": {
        "pycharm": {}
      },
      "outputs": [],
      "source": [
        "natex_nlu \u003d NatexNLU(\u0027\u003ceveryone, hi\u003e\u0027)"
      ]
    },
    {
      "cell_type": "code",
      "execution_count": 58,
      "metadata": {
        "pycharm": {}
      },
      "outputs": [
        {
          "name": "stdout",
          "output_type": "stream",
          "text": [
            "\u003cregex.Match object; span\u003d(0, 11), match\u003d\u0027hi everyone\u0027\u003e\n"
          ]
        }
      ],
      "source": [
        "print(natex_nlu.match(\u0027hi everyone\u0027, debugging\u003dFalse))"
      ]
    },
    {
      "cell_type": "code",
      "execution_count": 208,
      "metadata": {
        "pycharm": {}
      },
      "outputs": [
        {
          "name": "stdout",
          "output_type": "stream",
          "text": [
            "\u003cregex.Match object; span\u003d(0, 25), match\u003d\u0027oh well hi there everyone\u0027\u003e\n"
          ]
        }
      ],
      "source": [
        "print(natex_nlu.match(\u0027oh well hi there everyone\u0027, debugging\u003dFalse))"
      ]
    },
    {
      "cell_type": "code",
      "execution_count": 209,
      "metadata": {
        "pycharm": {}
      },
      "outputs": [
        {
          "name": "stdout",
          "output_type": "stream",
          "text": [
            "None\n"
          ]
        }
      ],
      "source": [
        "print(natex_nlu.match(\u0027hi\u0027, debugging\u003dFalse))"
      ]
    },
    {
      "cell_type": "code",
      "execution_count": 210,
      "metadata": {
        "pycharm": {}
      },
      "outputs": [
        {
          "name": "stdout",
          "output_type": "stream",
          "text": [
            "None\n"
          ]
        }
      ],
      "source": [
        "print(natex_nlu.match(\u0027everyone\u0027, debugging\u003dFalse))"
      ]
    },
    {
      "cell_type": "markdown",
      "metadata": {
        "pycharm": {}
      },
      "source": [
        "### Flexible sequence\n",
        "```\n",
        "\u0027[well hello]\u0027\n",
        "```\n",
        "matches as long as the utterance contains all terms inside `[]`,\n",
        "and the terms are ordered properly within the utterance. Note that this expression matches any amount of characters\n",
        "before and after the requisite sequence."
      ]
    },
    {
      "cell_type": "code",
      "execution_count": 211,
      "metadata": {
        "pycharm": {}
      },
      "outputs": [],
      "source": [
        "natex_nlu \u003d NatexNLU(\u0027[well hello]\u0027)"
      ]
    },
    {
      "cell_type": "code",
      "execution_count": 212,
      "metadata": {
        "pycharm": {}
      },
      "outputs": [
        {
          "name": "stdout",
          "output_type": "stream",
          "text": [
            "\u003cregex.Match object; span\u003d(0, 10), match\u003d\u0027well hello\u0027\u003e\n"
          ]
        }
      ],
      "source": [
        "print(natex_nlu.match(\u0027well hello\u0027, debugging\u003dFalse))"
      ]
    },
    {
      "cell_type": "code",
      "execution_count": 213,
      "metadata": {
        "pycharm": {}
      },
      "outputs": [
        {
          "name": "stdout",
          "output_type": "stream",
          "text": [
            "\u003cregex.Match object; span\u003d(0, 16), match\u003d\u0027well hello there\u0027\u003e\n"
          ]
        }
      ],
      "source": [
        "print(natex_nlu.match(\u0027well hello there\u0027, debugging\u003dFalse))"
      ]
    },
    {
      "cell_type": "code",
      "execution_count": 214,
      "metadata": {
        "pycharm": {}
      },
      "outputs": [
        {
          "name": "stdout",
          "output_type": "stream",
          "text": [
            "\u003cregex.Match object; span\u003d(0, 33), match\u003d\u0027and then he said well hello there\u0027\u003e\n"
          ]
        }
      ],
      "source": [
        "print(natex_nlu.match(\u0027and then he said well hello there\u0027, debugging\u003dFalse))"
      ]
    },
    {
      "cell_type": "code",
      "execution_count": 215,
      "metadata": {
        "pycharm": {}
      },
      "outputs": [
        {
          "name": "stdout",
          "output_type": "stream",
          "text": [
            "None\n"
          ]
        }
      ],
      "source": [
        "print(natex_nlu.match(\u0027well hi there\u0027, debugging\u003dFalse))"
      ]
    },
    {
      "cell_type": "markdown",
      "metadata": {
        "pycharm": {}
      },
      "source": [
        "#### Slightly more complicated example:"
      ]
    },
    {
      "cell_type": "markdown",
      "metadata": {
        "pycharm": {}
      },
      "source": [
        "It is important to point out that commas `,` are used to separate terms in our expressions. If there are multiple words separated by spaces contained within a single comma, then that entire string (including the spaces) will need to match. "
      ]
    },
    {
      "cell_type": "code",
      "execution_count": 216,
      "metadata": {
        "pycharm": {}
      },
      "outputs": [],
      "source": [
        "natex_nlu \u003d NatexNLU(\u0027[he said, bob]\u0027)"
      ]
    },
    {
      "cell_type": "code",
      "execution_count": 217,
      "metadata": {
        "pycharm": {}
      },
      "outputs": [
        {
          "name": "stdout",
          "output_type": "stream",
          "text": [
            "\u003cregex.Match object; span\u003d(0, 11), match\u003d\u0027he said bob\u0027\u003e\n"
          ]
        }
      ],
      "source": [
        "print(natex_nlu.match(\u0027he said bob\u0027, debugging\u003dFalse))"
      ]
    },
    {
      "cell_type": "code",
      "execution_count": 218,
      "metadata": {
        "pycharm": {}
      },
      "outputs": [
        {
          "name": "stdout",
          "output_type": "stream",
          "text": [
            "\u003cregex.Match object; span\u003d(0, 33), match\u003d\u0027and the next that he said was bob\u0027\u003e\n"
          ]
        }
      ],
      "source": [
        "print(natex_nlu.match(\u0027and the next thing that he said was bob\u0027, debugging\u003dFalse))"
      ]
    },
    {
      "cell_type": "code",
      "execution_count": 219,
      "metadata": {
        "pycharm": {}
      },
      "outputs": [
        {
          "name": "stdout",
          "output_type": "stream",
          "text": [
            "None\n"
          ]
        }
      ],
      "source": [
        "print(natex_nlu.match(\u0027and bob was the next that he said\u0027, debugging\u003dFalse))"
      ]
    },
    {
      "cell_type": "markdown",
      "metadata": {
        "pycharm": {}
      },
      "source": [
        "### Inflexible sequence\n",
        "```\n",
        "\u0027[!he, said, bob]\u0027\n",
        "```\n",
        "matches an exact sequence of terms with no words inserted between\n",
        "terms. The only utterance matching the example is \"he said bob\"."
      ]
    },
    {
      "cell_type": "code",
      "execution_count": 220,
      "metadata": {
        "pycharm": {}
      },
      "outputs": [],
      "source": [
        "natex_nlu \u003d NatexNLU(\u0027[!he, said, bob]\u0027)"
      ]
    },
    {
      "cell_type": "code",
      "execution_count": 221,
      "metadata": {
        "pycharm": {}
      },
      "outputs": [
        {
          "name": "stdout",
          "output_type": "stream",
          "text": [
            "\u003cregex.Match object; span\u003d(0, 11), match\u003d\u0027he said bob\u0027\u003e\n"
          ]
        }
      ],
      "source": [
        "print(natex_nlu.match(\u0027he said bob\u0027, debugging\u003dFalse))"
      ]
    },
    {
      "cell_type": "code",
      "execution_count": 222,
      "metadata": {
        "pycharm": {}
      },
      "outputs": [
        {
          "name": "stdout",
          "output_type": "stream",
          "text": [
            "None\n"
          ]
        }
      ],
      "source": [
        "print(natex_nlu.match(\u0027and the next thing is he said bob\u0027, debugging\u003dFalse))"
      ]
    },
    {
      "cell_type": "markdown",
      "metadata": {
        "pycharm": {}
      },
      "source": [
        "### Negation\n",
        "```\n",
        "[!i am -bad]\n",
        "```\n",
        "prepend `-` to negate the next term in the expression. The example\n",
        "will match any expression starting with \"i am\" where \"bad\" does NOT\n",
        "follow. Note that the scope of the negation extends to the end\n",
        "of the substring due to limitations in regex."
      ]
    },
    {
      "cell_type": "code",
      "execution_count": 223,
      "metadata": {
        "pycharm": {}
      },
      "outputs": [],
      "source": [
        "natex_nlu \u003d NatexNLU(\u0027[!i, am, -bad, at, math]\u0027)"
      ]
    },
    {
      "cell_type": "code",
      "execution_count": 224,
      "metadata": {
        "pycharm": {}
      },
      "outputs": [
        {
          "name": "stdout",
          "output_type": "stream",
          "text": [
            "None\n"
          ]
        }
      ],
      "source": [
        "print(natex_nlu.match(\u0027i am bad at math\u0027, debugging\u003dFalse))"
      ]
    },
    {
      "cell_type": "code",
      "execution_count": 225,
      "metadata": {
        "pycharm": {}
      },
      "outputs": [
        {
          "name": "stdout",
          "output_type": "stream",
          "text": [
            "\u003cregex.Match object; span\u003d(0, 17), match\u003d\u0027i am good at math\u0027\u003e\n"
          ]
        }
      ],
      "source": [
        "print(natex_nlu.match(\u0027i am good at math\u0027, debugging\u003dFalse))"
      ]
    },
    {
      "cell_type": "code",
      "execution_count": 226,
      "metadata": {
        "pycharm": {}
      },
      "outputs": [
        {
          "name": "stdout",
          "output_type": "stream",
          "text": [
            "\u003cregex.Match object; span\u003d(0, 21), match\u003d\u0027i am good boy at math\u0027\u003e\n"
          ]
        }
      ],
      "source": [
        "print(natex_nlu.match(\u0027i am good boy at math\u0027, debugging\u003dFalse))"
      ]
    },
    {
      "cell_type": "code",
      "execution_count": 227,
      "metadata": {
        "pycharm": {}
      },
      "outputs": [
        {
          "name": "stdout",
          "output_type": "stream",
          "text": [
            "None\n"
          ]
        }
      ],
      "source": [
        "print(natex_nlu.match(\u0027i am bad\u0027, debugging\u003dFalse))"
      ]
    },
    {
      "cell_type": "markdown",
      "metadata": {
        "pycharm": {}
      },
      "source": [
        "### Regular expression\n",
        "```\n",
        "\u0027/[A-Z a-z]+/\u0027\n",
        "```\n",
        "substrings within `//` define a python regex directly."
      ]
    },
    {
      "cell_type": "markdown",
      "metadata": {
        "pycharm": {}
      },
      "source": [
        "If it is easier for some cases to use an actual regular expression, you can."
      ]
    },
    {
      "cell_type": "code",
      "execution_count": 78,
      "metadata": {
        "pycharm": {}
      },
      "outputs": [],
      "source": [
        "natex_nlu_natex \u003d NatexNLU(\u0027{hi, hello}\u0027)"
      ]
    },
    {
      "cell_type": "code",
      "execution_count": 79,
      "metadata": {
        "pycharm": {}
      },
      "outputs": [
        {
          "name": "stdout",
          "output_type": "stream",
          "text": [
            "\u003cregex.Match object; span\u003d(0, 2), match\u003d\u0027hi\u0027\u003e\n"
          ]
        }
      ],
      "source": [
        "print(natex_nlu_natex.match(\u0027hi\u0027, debugging\u003dFalse))"
      ]
    },
    {
      "cell_type": "code",
      "execution_count": 80,
      "metadata": {
        "pycharm": {}
      },
      "outputs": [
        {
          "name": "stdout",
          "output_type": "stream",
          "text": [
            "\u003cregex.Match object; span\u003d(0, 5), match\u003d\u0027hello\u0027\u003e\n"
          ]
        }
      ],
      "source": [
        "print(natex_nlu_natex.match(\u0027hello\u0027, debugging\u003dFalse))"
      ]
    },
    {
      "cell_type": "code",
      "execution_count": 81,
      "metadata": {
        "pycharm": {}
      },
      "outputs": [
        {
          "name": "stdout",
          "output_type": "stream",
          "text": [
            "None\n"
          ]
        }
      ],
      "source": [
        "print(natex_nlu_natex.match(\u0027bye\u0027, debugging\u003dFalse))"
      ]
    },
    {
      "cell_type": "code",
      "execution_count": 82,
      "metadata": {
        "pycharm": {}
      },
      "outputs": [],
      "source": [
        "natex_nlu_regex \u003d NatexNLU(\u0027/hi|hello/\u0027)"
      ]
    },
    {
      "cell_type": "code",
      "execution_count": 83,
      "metadata": {
        "pycharm": {}
      },
      "outputs": [
        {
          "name": "stdout",
          "output_type": "stream",
          "text": [
            "\u003cregex.Match object; span\u003d(0, 2), match\u003d\u0027hi\u0027\u003e\n"
          ]
        }
      ],
      "source": [
        "print(natex_nlu_regex.match(\u0027hi\u0027, debugging\u003dFalse))"
      ]
    },
    {
      "cell_type": "code",
      "execution_count": 84,
      "metadata": {
        "pycharm": {}
      },
      "outputs": [
        {
          "name": "stdout",
          "output_type": "stream",
          "text": [
            "\u003cregex.Match object; span\u003d(0, 5), match\u003d\u0027hello\u0027\u003e\n"
          ]
        }
      ],
      "source": [
        "print(natex_nlu_regex.match(\u0027hello\u0027, debugging\u003dFalse))"
      ]
    },
    {
      "cell_type": "code",
      "execution_count": 85,
      "metadata": {
        "pycharm": {}
      },
      "outputs": [
        {
          "name": "stdout",
          "output_type": "stream",
          "text": [
            "None\n"
          ]
        }
      ],
      "source": [
        "print(natex_nlu_regex.match(\u0027bye\u0027, debugging\u003dFalse))"
      ]
    },
    {
      "cell_type": "markdown",
      "metadata": {
        "pycharm": {}
      },
      "source": [
        "### Nesting\n",
        "```\n",
        "\u0027[!{hi, hello} [how, weekend]]\u0027\n",
        "```\n",
        "would match \"hi how was your weekend\", \"oh hello so how is the\n",
        "weekend going\", ..."
      ]
    },
    {
      "cell_type": "markdown",
      "metadata": {
        "pycharm": {}
      },
      "source": [
        "This example has:\n",
        "* Inflexible Sequence\n",
        "\n",
        "with nested\n",
        "\n",
        "* Disjunction\n",
        "* Flexible Sequence"
      ]
    },
    {
      "cell_type": "code",
      "execution_count": 63,
      "metadata": {
        "pycharm": {}
      },
      "outputs": [],
      "source": [
        "natex_nlu \u003d NatexNLU(\u0027[!{hi, hello} [how, weekend]]\u0027)"
      ]
    },
    {
      "cell_type": "code",
      "execution_count": 64,
      "metadata": {
        "pycharm": {}
      },
      "outputs": [
        {
          "name": "stdout",
          "output_type": "stream",
          "text": [
            "None\n"
          ]
        }
      ],
      "source": [
        "print(natex_nlu.match(\u0027hello how was your weekend\u0027, debugging\u003dFalse))"
      ]
    },
    {
      "cell_type": "markdown",
      "metadata": {
        "pycharm": {}
      },
      "source": [
        "Matches because:\n",
        "* Meets the requirements of the Inflexible Sequence\n",
        "* Meets the requirements of the Disjunction\n",
        "* Meets the requirements of the Flexible Sequence"
      ]
    },
    {
      "cell_type": "code",
      "execution_count": 230,
      "metadata": {
        "pycharm": {}
      },
      "outputs": [
        {
          "name": "stdout",
          "output_type": "stream",
          "text": [
            "None\n"
          ]
        }
      ],
      "source": [
        "print(natex_nlu.match(\u0027oh hi how was your weekend\u0027, debugging\u003dFalse))"
      ]
    },
    {
      "cell_type": "markdown",
      "metadata": {
        "pycharm": {}
      },
      "source": [
        "Doesn\u0027t match because of Inflexible Sequence\n",
        "* there cannot be any leading words before the disjunction"
      ]
    },
    {
      "cell_type": "code",
      "execution_count": 66,
      "metadata": {
        "pycharm": {}
      },
      "outputs": [
        {
          "name": "stdout",
          "output_type": "stream",
          "text": [
            "\u003cregex.Match object; span\u003d(0, 20), match\u003d\u0027hi there how weekend\u0027\u003e\n"
          ]
        }
      ],
      "source": [
        "print(natex_nlu.match(\u0027hi there how was your weekend\u0027, debugging\u003dFalse))"
      ]
    },
    {
      "cell_type": "markdown",
      "metadata": {
        "pycharm": {}
      },
      "source": [
        "Matches because of inner Flexible Sequence\n",
        "* allows for extra words around it (even though it is nested inside of Inflexible Sequence)"
      ]
    },
    {
      "cell_type": "markdown",
      "metadata": {
        "pycharm": {}
      },
      "source": [
        "### Variable assignment\n",
        "```\n",
        "\u0027[!i am $f\u003d{good, bad}]\u0027\n",
        "```\n",
        "using `$var\u003d` will assign variable `var` to the next term in\n",
        "the expression. The variable will persist until overwritten,\n",
        "and can be referenced in future NLU or NLG expressions.\n",
        "The example would match either \"i am good\" or \"i am bad\", and\n",
        "assigns variable \"f\" to either \"good\" or \"bad\" depending\n",
        "on what the user said."
      ]
    },
    {
      "cell_type": "code",
      "execution_count": 67,
      "metadata": {
        "pycharm": {}
      },
      "outputs": [],
      "source": [
        "vars_dict \u003d {}\n",
        "natex_nlu \u003d NatexNLU(\u0027[!i am $f\u003d{good, bad}]\u0027)"
      ]
    },
    {
      "cell_type": "code",
      "execution_count": 233,
      "metadata": {
        "pycharm": {}
      },
      "outputs": [
        {
          "name": "stdout",
          "output_type": "stream",
          "text": [
            "\u003cregex.Match object; span\u003d(0, 9), match\u003d\u0027i am good\u0027\u003e\n"
          ]
        }
      ],
      "source": [
        "print(natex_nlu.match(\u0027i am good\u0027, debugging\u003dFalse, vars\u003dvars_dict))"
      ]
    },
    {
      "cell_type": "code",
      "execution_count": 234,
      "metadata": {
        "pycharm": {}
      },
      "outputs": [
        {
          "data": {
            "text/plain": [
              "{\u0027f\u0027: \u0027good\u0027}"
            ]
          },
          "execution_count": 234,
          "metadata": {},
          "output_type": "execute_result"
        }
      ],
      "source": [
        "vars_dict"
      ]
    },
    {
      "cell_type": "code",
      "execution_count": 235,
      "metadata": {
        "pycharm": {}
      },
      "outputs": [
        {
          "name": "stdout",
          "output_type": "stream",
          "text": [
            "\u003cregex.Match object; span\u003d(0, 8), match\u003d\u0027i am bad\u0027\u003e\n"
          ]
        }
      ],
      "source": [
        "print(natex_nlu.match(\u0027i am bad\u0027, debugging\u003dFalse, vars\u003dvars_dict))"
      ]
    },
    {
      "cell_type": "code",
      "execution_count": 236,
      "metadata": {
        "pycharm": {}
      },
      "outputs": [
        {
          "data": {
            "text/plain": [
              "{\u0027f\u0027: \u0027bad\u0027}"
            ]
          },
          "execution_count": 236,
          "metadata": {},
          "output_type": "execute_result"
        }
      ],
      "source": [
        "vars_dict"
      ]
    },
    {
      "cell_type": "code",
      "execution_count": 237,
      "metadata": {
        "pycharm": {}
      },
      "outputs": [],
      "source": [
        "vars_dict \u003d {}\n",
        "natex_nlu \u003d NatexNLU(\u0027[!i am $f\u003d[the, best]]\u0027)"
      ]
    },
    {
      "cell_type": "code",
      "execution_count": 238,
      "metadata": {
        "pycharm": {}
      },
      "outputs": [
        {
          "name": "stdout",
          "output_type": "stream",
          "text": [
            "\u003cregex.Match object; span\u003d(0, 25), match\u003d\u0027i am the very best artist\u0027\u003e\n"
          ]
        }
      ],
      "source": [
        "print(natex_nlu.match(\u0027i am the very best artist\u0027, debugging\u003dFalse, vars\u003dvars_dict))"
      ]
    },
    {
      "cell_type": "code",
      "execution_count": 239,
      "metadata": {
        "pycharm": {}
      },
      "outputs": [
        {
          "data": {
            "text/plain": [
              "{\u0027f\u0027: \u0027the very best artist\u0027}"
            ]
          },
          "execution_count": 239,
          "metadata": {},
          "output_type": "execute_result"
        }
      ],
      "source": [
        "vars_dict"
      ]
    },
    {
      "cell_type": "markdown",
      "metadata": {
        "pycharm": {}
      },
      "source": [
        "### Variable reference\n",
        "```\n",
        "[!why are you $f today]\n",
        "```\n",
        "using `$` references a previously assigned variable. If no such\n",
        "variable exists, the expression as a whole returns with no match.\n",
        "The example would match \"why are you good today\" if `f\u003d\"good\"`, \n",
        "but would not match if `f\u003d\"bad\"`"
      ]
    },
    {
      "cell_type": "code",
      "execution_count": 240,
      "metadata": {
        "pycharm": {}
      },
      "outputs": [],
      "source": [
        "vars_dict \u003d {\"f\": \"good\"}\n",
        "natex_nlu \u003d NatexNLU(\u0027[!why are you $f today]\u0027)"
      ]
    },
    {
      "cell_type": "code",
      "execution_count": 241,
      "metadata": {
        "pycharm": {}
      },
      "outputs": [
        {
          "name": "stdout",
          "output_type": "stream",
          "text": [
            "\u003cregex.Match object; span\u003d(0, 22), match\u003d\u0027why are you good today\u0027\u003e\n"
          ]
        }
      ],
      "source": [
        "print(natex_nlu.match(\u0027why are you good today\u0027, debugging\u003dFalse, vars\u003dvars_dict))"
      ]
    },
    {
      "cell_type": "code",
      "execution_count": 242,
      "metadata": {
        "pycharm": {}
      },
      "outputs": [
        {
          "name": "stdout",
          "output_type": "stream",
          "text": [
            "None\n"
          ]
        }
      ],
      "source": [
        "print(natex_nlu.match(\u0027why are you bad today\u0027, debugging\u003dFalse, vars\u003dvars_dict))"
      ]
    },
    {
      "cell_type": "code",
      "execution_count": 243,
      "metadata": {
        "pycharm": {}
      },
      "outputs": [
        {
          "name": "stdout",
          "output_type": "stream",
          "text": [
            "\u003cregex.Match object; span\u003d(0, 8), match\u003d\u0027i am bad\u0027\u003e\n",
            "{\u0027f\u0027: \u0027bad\u0027}\n"
          ]
        }
      ],
      "source": [
        "vars_dict \u003d {}\n",
        "natex_nlu_statement \u003d NatexNLU(\u0027[!i am $f\u003d{good, bad}]\u0027)\n",
        "print(natex_nlu_statement.match(\u0027i am bad\u0027, debugging\u003dFalse, vars\u003dvars_dict))\n",
        "print(vars_dict)"
      ]
    },
    {
      "cell_type": "code",
      "execution_count": 244,
      "metadata": {
        "pycharm": {}
      },
      "outputs": [
        {
          "name": "stdout",
          "output_type": "stream",
          "text": [
            "None\n"
          ]
        }
      ],
      "source": [
        "print(natex_nlu.match(\u0027why are you good today\u0027, debugging\u003dFalse, vars\u003dvars_dict))"
      ]
    },
    {
      "cell_type": "code",
      "execution_count": 245,
      "metadata": {
        "pycharm": {}
      },
      "outputs": [
        {
          "name": "stdout",
          "output_type": "stream",
          "text": [
            "\u003cregex.Match object; span\u003d(0, 21), match\u003d\u0027why are you bad today\u0027\u003e\n"
          ]
        }
      ],
      "source": [
        "print(natex_nlu.match(\u0027why are you bad today\u0027, debugging\u003dFalse, vars\u003dvars_dict))"
      ]
    },
    {
      "cell_type": "markdown",
      "metadata": {
        "pycharm": {}
      },
      "source": [
        "## Phone Conversation: Regex to NatEx"
      ]
    },
    {
      "cell_type": "markdown",
      "metadata": {
        "pycharm": {}
      },
      "source": [
        "Let\u0027s return to the phone conversation we have been working with."
      ]
    },
    {
      "cell_type": "markdown",
      "metadata": {
        "pycharm": {}
      },
      "source": [
        "### Response: Yes"
      ]
    },
    {
      "cell_type": "code",
      "execution_count": 11,
      "metadata": {
        "pycharm": {}
      },
      "outputs": [
        {
          "name": "stdout",
          "output_type": "stream",
          "text": [
            "\u003cregex.Match object; span\u003d(0, 20), match\u003d\u0027yes i have an iphone\u0027\u003e\n",
            "\n"
          ]
        }
      ],
      "source": [
        "from emora_stdm import NatexNLU\n",
        "\n",
        "REGEX \u003d \"(?:\\s|^)(yes|yeah)(?:\\s|,|\\.|$)\"\n",
        "\n",
        "yes \u003d r\"[{yes,yeah}]\"\n",
        "yes_natex \u003d NatexNLU(yes)\n",
        "print(yes_natex.match(\"yes i have an iphone\"))\n",
        "print()"
      ]
    },
    {
      "cell_type": "markdown",
      "metadata": {
        "pycharm": {}
      },
      "source": [
        "### Response: No"
      ]
    },
    {
      "cell_type": "code",
      "execution_count": 247,
      "metadata": {
        "pycharm": {}
      },
      "outputs": [
        {
          "name": "stdout",
          "output_type": "stream",
          "text": [
            "\u003cregex.Match object; span\u003d(0, 19), match\u003d\u0027actually not really\u0027\u003e\n",
            "\n"
          ]
        }
      ],
      "source": [
        "REGEX \u003d \"(?:\\s|^)(no|not really)(?:\\s|,|\\.|$)(?:.*)\"\n",
        "\n",
        "no \u003d r\"[{no,not really}]\"\n",
        "no_natex \u003d NatexNLU(no)\n",
        "print(no_natex.match(\"actually not really\"))\n",
        "print()"
      ]
    },
    {
      "cell_type": "markdown",
      "metadata": {
        "pycharm": {}
      },
      "source": [
        "### Response: Phone Model"
      ]
    },
    {
      "cell_type": "code",
      "execution_count": 18,
      "metadata": {
        "pycharm": {}
      },
      "outputs": [
        {
          "name": "stdout",
          "output_type": "stream",
          "text": [
            "\u003cregex.Match object; span\u003d(0, 23), match\u003d\u0027the samsung android one\u0027\u003e\n",
            "{\u0027company\u0027: \u0027samsung\u0027, \u0027model\u0027: \u0027android\u0027}\n",
            "\n"
          ]
        }
      ],
      "source": [
        "REGEX \u003d \"(?:\\s|^)(apple|google|samsung)|(iphone|pixel|galaxy|android)(?:\\s|,|\\.|$)\"\n",
        "\n",
        "pcm_vars \u003d {}\n",
        "phone_company_model \u003d r\"{[$company\u003d{apple,google,samsung},$model\u003d{iphone,pixel,galaxy,android}],[$company\u003d{apple,google,samsung}],[$model\u003d{iphone,pixel,galaxy,android}]}\"\n",
        "phone_company_model_natex \u003d NatexNLU(phone_company_model)\n",
        "print(phone_company_model_natex.match(\"the samsung android one\", vars\u003dpcm_vars))\n",
        "print(pcm_vars)\n",
        "print()"
      ]
    },
    {
      "cell_type": "markdown",
      "metadata": {
        "pycharm": {}
      },
      "source": [
        "### Response: Duration"
      ]
    },
    {
      "cell_type": "code",
      "execution_count": 249,
      "metadata": {
        "pycharm": {}
      },
      "outputs": [
        {
          "name": "stdout",
          "output_type": "stream",
          "text": [
            "\u003cregex.Match object; span\u003d(0, 8), match\u003d\u00276 months\u0027\u003e\n",
            "{\u0027number\u0027: \u00276\u0027, \u0027time_type\u0027: \u0027months\u0027}\n",
            "\n"
          ]
        }
      ],
      "source": [
        "REGEX \u003d \"(?:\\s|^)(\\d+)(?:\\s|-)+(month|year)\"\n",
        "\n",
        "t_vars \u003d {}\n",
        "timeframe \u003d r\"[$number\u003d/\\d+/,$time_type\u003d{month,months,year,years}]\"\n",
        "timeframe_natex \u003d NatexNLU(timeframe)\n",
        "print(timeframe_natex.match(\"6 months\", vars\u003dt_vars))\n",
        "print(t_vars)\n",
        "print()"
      ]
    },
    {
      "cell_type": "markdown",
      "metadata": {
        "pycharm": {}
      },
      "source": [
        "### Response: From Date"
      ]
    },
    {
      "cell_type": "code",
      "execution_count": 250,
      "metadata": {
        "pycharm": {}
      },
      "outputs": [
        {
          "name": "stdout",
          "output_type": "stream",
          "text": [
            "\u003cregex.Match object; span\u003d(0, 19), match\u003d\u0027since february 2019\u0027\u003e\n",
            "{\u0027month\u0027: \u0027february\u0027, \u0027year\u0027: \u00272019\u0027}\n",
            "\n"
          ]
        }
      ],
      "source": [
        "REGEX \u003d \"(?:\\s|^)(?:since|from)\\s(?:(january|february|march|april|may|june|july|august|september|october|november|december)\\s)?(\\d{2,4})\"\n",
        "\n",
        "d_vars \u003d {}\n",
        "date \u003d r\"[!{since,from},$month\u003d{january,february,march,april,may,june,july,august,september,october,november,december},$year\u003d/\\d{2,4}/]\"\n",
        "date_natex \u003d NatexNLU(date)\n",
        "print(date_natex.match(\"since february 2019\", vars\u003dd_vars))\n",
        "print(d_vars)\n",
        "print()"
      ]
    },
    {
      "cell_type": "markdown",
      "metadata": {
        "pycharm": {}
      },
      "source": [
        "### Response: Version"
      ]
    },
    {
      "cell_type": "code",
      "execution_count": 121,
      "metadata": {
        "pycharm": {}
      },
      "outputs": [
        {
          "name": "stdout",
          "output_type": "stream",
          "text": [
            "\u003cregex.Match object; span\u003d(0, 15), match\u003d\u0027iphone 10s plus\u0027\u003e\n",
            "{\u0027iphone_model\u0027: \u0027iphone 10s plus\u0027}\n",
            "\n"
          ]
        }
      ],
      "source": [
        "REGEX \u003d \"(?:\\s|^)(?:iphone|version)\\s(\\d+s?(?: (?:plus|max))?)(?:\\s|,|\\.|$)\"\n",
        "\n",
        "im_vars \u003d {}\n",
        "iphone_model \u003d r\"[$iphone_model\u003d[!{iphone,version},/\\d+/,/\\d+s/},{plus,max}?]]\"\n",
        "iphone_model_natex \u003d NatexNLU(iphone_model)\n",
        "print(iphone_model_natex.match(\"iphone 10s plus\", vars\u003dim_vars))\n",
        "print(im_vars)\n",
        "print()"
      ]
    },
    {
      "cell_type": "markdown",
      "metadata": {
        "pycharm": {}
      },
      "source": [
        "### Macro: Predict Phone Version"
      ]
    },
    {
      "cell_type": "code",
      "execution_count": 1,
      "metadata": {
        "pycharm": {}
      },
      "outputs": [],
      "source": [
        "from emora_stdm import Macro\n",
        "\n",
        "class VERSION(Macro):\n",
        "    \n",
        "    def run(self, ngrams, vars, args):\n",
        "        \n",
        "        d_iphone \u003d {\n",
        "            2019: [(9, [\u002711\u0027, \u002711 pro\u0027, \u002711 pro max\u0027])], \n",
        "            2018: [(9, [\u002710s\u0027, \u002710s max\u0027])], \n",
        "            2017: [(11, [\u002710\u0027]), (9, [\u00278\u0027, \u00278 plus\u0027])], \n",
        "            2016: [(9, [\u00277\u0027, \u00277 plus\u0027])], \n",
        "            2015: [(9, [\u00276s\u0027, \u00276s plus\u0027])], \n",
        "            2014: [(9, [\u00276\u0027, \u00276 plus\u0027])]}\n",
        "        \n",
        "        d_month_to_number \u003d {\n",
        "            month: i for i, month in enumerate(\n",
        "                [\u0027january\u0027,\u0027february\u0027,\u0027march\u0027,\u0027april\u0027,\u0027may\u0027,\u0027june\u0027,\n",
        "                 \u0027july\u0027,\u0027august\u0027,\u0027september\u0027,\u0027october\u0027,\u0027november\u0027,\u0027december\u0027], start\u003d1)}\n",
        "\n",
        "        year \u003d None\n",
        "        curr_year, curr_month \u003d 2020, 1\n",
        "        \n",
        "        if \u0027number\u0027 in vars and \u0027time_type\u0027 in vars:\n",
        "            d \u003d int(vars[\u0027number\u0027])\n",
        "            m \u003d vars[\u0027time_type\u0027]\n",
        "            if m.startswith(\u0027year\u0027):\n",
        "                year \u003d curr_year - d\n",
        "                month \u003d curr_month\n",
        "            elif m.startswith(\u0027month\u0027):\n",
        "                year \u003d curr_year - int(d / 12)\n",
        "                month \u003d curr_month - (d % 12)\n",
        "                if month \u003c\u003d 0:\n",
        "                    month_diff \u003d abs(month)\n",
        "                    month \u003d 12 - month_diff\n",
        "                    year -\u003d 1\n",
        "                    \n",
        "        elif \u0027year\u0027 in vars:    \n",
        "            year \u003d int(vars[\u0027year\u0027])\n",
        "            if year \u003c\u003d 20: year +\u003d 2000\n",
        "            if \u0027month\u0027 in vars:\n",
        "                month \u003d d_month_to_number[vars[\u0027month\u0027]]\n",
        "            else:\n",
        "                month \u003d 1\n",
        "\n",
        "        r \u003d d_iphone.get(year, None)\n",
        "        if r:\n",
        "            v \u003d next((s_models for s_month, s_models in r if s_month \u003e\u003d month), [])\n",
        "            return \u0027 or \u0027.join(v)\n"
      ]
    },
    {
      "cell_type": "markdown",
      "metadata": {
        "pycharm": {}
      },
      "source": [
        "## Phone Conversation State Machine"
      ]
    },
    {
      "cell_type": "markdown",
      "metadata": {
        "pycharm": {}
      },
      "source": [
        "\u003cimg src\u003d\"res/small_conv.jpg\" /\u003e"
      ]
    },
    {
      "cell_type": "code",
      "execution_count": null,
      "metadata": {
        "pycharm": {}
      },
      "outputs": [
        {
          "name": "stdout",
          "output_type": "stream",
          "text": [
            "S: are you using a smartphone ?\n",
            "U: yes i have an iphone\n",
            "S: how long have you been using iphone ?\n"
          ]
        }
      ],
      "source": [
        "from emora_stdm import DialogueFlow\n",
        "from enum import Enum\n",
        "\n",
        "class State(Enum):\n",
        "    S0 \u003d 0\n",
        "    U0 \u003d 1\n",
        "    S1A \u003d 2\n",
        "    U1A \u003d 3\n",
        "    S2A \u003d 4\n",
        "    S2B \u003d 5\n",
        "    U2A \u003d 6\n",
        "    U2B \u003d 7\n",
        "    S3 \u003d 8\n",
        "    END \u003d 9\n",
        "    ERR \u003d 10\n",
        "    \n",
        "\n",
        "df \u003d DialogueFlow(State.S0, initial_speaker\u003dDialogueFlow.Speaker.SYSTEM, macros\u003d{\"VERSION\":VERSION()})\n",
        "\n",
        "# FIRST TURN\n",
        "\n",
        "df.add_system_transition(State.S0, State.U0, r\u0027[!are you using a smartphone\"?\"]\u0027)\n",
        "\n",
        "# SECOND TURN\n",
        "\n",
        "yesphone_natex \u003d r\"[{yes,yeah}, {[$company\u003d{apple,google,samsung},$model\u003d{iphone,pixel,galaxy,android}],[$company\u003d{apple,google,samsung}],[$model\u003d{iphone,pixel,galaxy,android}]}]\"\n",
        "df.add_user_transition(State.U0, State.S1A, yesphone_natex)\n",
        "\n",
        "df.add_system_transition(State.S1A, State.U1A, r\u0027[!how long have you been using $model\"?\"]\u0027)\n",
        "\n",
        "# THIRD TURN\n",
        "\n",
        "time_natex \u003d r\"{[$number\u003d/\\d+/,$time_type\u003d{month,months,year,years}], [!{since,from},$month\u003d{january,february,march,april,may,june,july,august,september,october,november,december},$year\u003d/\\d{2,4}/]}\"\n",
        "df.add_user_transition(State.U1A, State.S2A, time_natex)\n",
        "\n",
        "df.add_system_transition(State.S2A, State.U2A, r\u0027[!oh are you using $model #VERSION\"?\"]\u0027)\n",
        "\n",
        "df.set_error_successor(State.U1A, error_successor\u003dState.S2B) # if we don\u0027t get any time information, take the error transition to S2B\n",
        "\n",
        "df.add_system_transition(State.S2B, State.U2B, r\u0027[! what version of phone are you using\"?\"]\u0027)\n",
        "\n",
        "# FINAL TURN\n",
        "\n",
        "df.add_user_transition(State.U2A, State.END, \"/.*/\")\n",
        "df.add_user_transition(State.U2B, State.END, \"/.*/\")\n",
        "\n",
        "# DOES NOT HANDLE S3 CURRENTLY\n",
        "# TO DO FOR QUIZ 2\n",
        "\n",
        "df.add_system_transition(State.END, State.END, \"END REACHED\")\n",
        "\n",
        "# ERROR STATES\n",
        "df.add_system_transition(State.ERR, State.ERR, r\"[!i have failed]\")\n",
        "df.set_error_successor(State.U0, error_successor\u003dState.ERR)\n",
        "df.set_error_successor(State.U2A, error_successor\u003dState.ERR)\n",
        "df.set_error_successor(State.U2B, error_successor\u003dState.ERR)\n",
        "df.set_error_successor(State.ERR, error_successor\u003dState.ERR)\n",
        "df.set_error_successor(State.END, error_successor\u003dState.END)\n",
        "\n",
        "\n",
        "df.run(debugging\u003dFalse)"
      ]
    },
    {
      "cell_type": "markdown",
      "metadata": {
        "pycharm": {}
      },
      "source": [
        "## Using an Ontology"
      ]
    },
    {
      "cell_type": "markdown",
      "metadata": {
        "pycharm": {}
      },
      "source": [
        "*Ontology:* Hierarchy of words based on categorical groupings "
      ]
    },
    {
      "cell_type": "markdown",
      "metadata": {
        "pycharm": {}
      },
      "source": [
        "Here is a simple example of what an ontology can look like:\n",
        "* the highest level grouping is animal\n",
        "* where mammal and bird are subtypes of animal\n",
        "* where cat and dog are subtypes of mammal (and by the transitive property also subtypes of animal)\n",
        "* where parrot and dove and crow are subtypes of bird (and by the transitive property also subtypes of animal)\n",
        "* but mammal and bird are not subtypes of each other"
      ]
    },
    {
      "cell_type": "markdown",
      "metadata": {
        "pycharm": {}
      },
      "source": [
        "\u003cimg src\u003d\"res/ont.jpg\" /\u003e"
      ]
    },
    {
      "cell_type": "markdown",
      "metadata": {
        "pycharm": {}
      },
      "source": [
        "Instead of specifying a disjunction of words in NatEx, it is often easier and more flexible to reference an ontology group."
      ]
    },
    {
      "cell_type": "markdown",
      "metadata": {
        "pycharm": {}
      },
      "source": [
        "You can make any arbitrary ontology that you want by building a python dictionary of the form:\n",
        "```  \n",
        "{\n",
        "    \"ontology\": {\n",
        "        \"category1\": [\n",
        "            \"item1\",\n",
        "            \"item2\",\n",
        "            ...\n",
        "        ],\n",
        "        \"category2\": [\n",
        "            ...\n",
        "        ]\n",
        "    }\n",
        "    \n",
        "}\n",
        "```"
      ]
    },
    {
      "cell_type": "markdown",
      "metadata": {
        "pycharm": {}
      },
      "source": [
        "ONT() is a built-in macro for referencing an ontology group in NatEx."
      ]
    },
    {
      "cell_type": "code",
      "execution_count": 11,
      "metadata": {
        "pycharm": {}
      },
      "outputs": [
        {
          "name": "stdout",
          "output_type": "stream",
          "text": [
            "S: Enter an animal :\n",
            "U: cat\n",
            "S: cat is a mammal , enter another animal\n",
            "U: dog\n",
            "S: dog is a mammal , enter another animal\n",
            "U: parrot\n",
            "S: parrot is a bird , enter another animal\n",
            "U: dove\n",
            "S: dove is a bird , enter another animal\n",
            "U: crow\n",
            "S: crow is a bird , enter another animal\n",
            "U: parakeet\n",
            "S: i dont know that one , enter another animal\n"
          ]
        },
        {
          "ename": "KeyboardInterrupt",
          "evalue": "",
          "output_type": "error",
          "traceback": [
            "\u001b[0;31m---------------------------------------------------------------------------\u001b[0m",
            "\u001b[0;31mKeyboardInterrupt\u001b[0m                         Traceback (most recent call last)",
            "\u001b[0;32m/anaconda2/envs/emora_cobot_env/lib/python3.7/site-packages/ipykernel/kernelbase.py\u001b[0m in \u001b[0;36m_input_request\u001b[0;34m(self, prompt, ident, parent, password)\u001b[0m\n\u001b[1;32m    883\u001b[0m             \u001b[0;32mtry\u001b[0m\u001b[0;34m:\u001b[0m\u001b[0;34m\u001b[0m\u001b[0;34m\u001b[0m\u001b[0m\n\u001b[0;32m--\u003e 884\u001b[0;31m                 \u001b[0mident\u001b[0m\u001b[0;34m,\u001b[0m \u001b[0mreply\u001b[0m \u001b[0;34m\u003d\u001b[0m \u001b[0mself\u001b[0m\u001b[0;34m.\u001b[0m\u001b[0msession\u001b[0m\u001b[0;34m.\u001b[0m\u001b[0mrecv\u001b[0m\u001b[0;34m(\u001b[0m\u001b[0mself\u001b[0m\u001b[0;34m.\u001b[0m\u001b[0mstdin_socket\u001b[0m\u001b[0;34m,\u001b[0m \u001b[0;36m0\u001b[0m\u001b[0;34m)\u001b[0m\u001b[0;34m\u001b[0m\u001b[0;34m\u001b[0m\u001b[0m\n\u001b[0m\u001b[1;32m    885\u001b[0m             \u001b[0;32mexcept\u001b[0m \u001b[0mException\u001b[0m\u001b[0;34m:\u001b[0m\u001b[0;34m\u001b[0m\u001b[0;34m\u001b[0m\u001b[0m\n",
            "\u001b[0;32m/anaconda2/envs/emora_cobot_env/lib/python3.7/site-packages/jupyter_client/session.py\u001b[0m in \u001b[0;36mrecv\u001b[0;34m(self, socket, mode, content, copy)\u001b[0m\n\u001b[1;32m    802\u001b[0m         \u001b[0;32mtry\u001b[0m\u001b[0;34m:\u001b[0m\u001b[0;34m\u001b[0m\u001b[0;34m\u001b[0m\u001b[0m\n\u001b[0;32m--\u003e 803\u001b[0;31m             \u001b[0mmsg_list\u001b[0m \u001b[0;34m\u003d\u001b[0m \u001b[0msocket\u001b[0m\u001b[0;34m.\u001b[0m\u001b[0mrecv_multipart\u001b[0m\u001b[0;34m(\u001b[0m\u001b[0mmode\u001b[0m\u001b[0;34m,\u001b[0m \u001b[0mcopy\u001b[0m\u001b[0;34m\u003d\u001b[0m\u001b[0mcopy\u001b[0m\u001b[0;34m)\u001b[0m\u001b[0;34m\u001b[0m\u001b[0;34m\u001b[0m\u001b[0m\n\u001b[0m\u001b[1;32m    804\u001b[0m         \u001b[0;32mexcept\u001b[0m \u001b[0mzmq\u001b[0m\u001b[0;34m.\u001b[0m\u001b[0mZMQError\u001b[0m \u001b[0;32mas\u001b[0m \u001b[0me\u001b[0m\u001b[0;34m:\u001b[0m\u001b[0;34m\u001b[0m\u001b[0;34m\u001b[0m\u001b[0m\n",
            "\u001b[0;32m/anaconda2/envs/emora_cobot_env/lib/python3.7/site-packages/zmq/sugar/socket.py\u001b[0m in \u001b[0;36mrecv_multipart\u001b[0;34m(self, flags, copy, track)\u001b[0m\n\u001b[1;32m    474\u001b[0m         \"\"\"\n\u001b[0;32m--\u003e 475\u001b[0;31m         \u001b[0mparts\u001b[0m \u001b[0;34m\u003d\u001b[0m \u001b[0;34m[\u001b[0m\u001b[0mself\u001b[0m\u001b[0;34m.\u001b[0m\u001b[0mrecv\u001b[0m\u001b[0;34m(\u001b[0m\u001b[0mflags\u001b[0m\u001b[0;34m,\u001b[0m \u001b[0mcopy\u001b[0m\u001b[0;34m\u003d\u001b[0m\u001b[0mcopy\u001b[0m\u001b[0;34m,\u001b[0m \u001b[0mtrack\u001b[0m\u001b[0;34m\u003d\u001b[0m\u001b[0mtrack\u001b[0m\u001b[0;34m)\u001b[0m\u001b[0;34m]\u001b[0m\u001b[0;34m\u001b[0m\u001b[0;34m\u001b[0m\u001b[0m\n\u001b[0m\u001b[1;32m    476\u001b[0m         \u001b[0;31m# have first part already, only loop while more to receive\u001b[0m\u001b[0;34m\u001b[0m\u001b[0;34m\u001b[0m\u001b[0;34m\u001b[0m\u001b[0m\n",
            "\u001b[0;32mzmq/backend/cython/socket.pyx\u001b[0m in \u001b[0;36mzmq.backend.cython.socket.Socket.recv\u001b[0;34m()\u001b[0m\n",
            "\u001b[0;32mzmq/backend/cython/socket.pyx\u001b[0m in \u001b[0;36mzmq.backend.cython.socket.Socket.recv\u001b[0;34m()\u001b[0m\n",
            "\u001b[0;32mzmq/backend/cython/socket.pyx\u001b[0m in \u001b[0;36mzmq.backend.cython.socket._recv_copy\u001b[0;34m()\u001b[0m\n",
            "\u001b[0;32m/anaconda2/envs/emora_cobot_env/lib/python3.7/site-packages/zmq/backend/cython/checkrc.pxd\u001b[0m in \u001b[0;36mzmq.backend.cython.checkrc._check_rc\u001b[0;34m()\u001b[0m\n",
            "\u001b[0;31mKeyboardInterrupt\u001b[0m: ",
            "\nDuring handling of the above exception, another exception occurred:\n",
            "\u001b[0;31mKeyboardInterrupt\u001b[0m                         Traceback (most recent call last)",
            "\u001b[0;32m\u003cipython-input-11-362ff451c3c0\u003e\u001b[0m in \u001b[0;36m\u003cmodule\u003e\u001b[0;34m\u001b[0m\n\u001b[1;32m     46\u001b[0m \u001b[0mdf\u001b[0m\u001b[0;34m.\u001b[0m\u001b[0madd_system_transition\u001b[0m\u001b[0;34m(\u001b[0m\u001b[0mState\u001b[0m\u001b[0;34m.\u001b[0m\u001b[0mERR\u001b[0m\u001b[0;34m,\u001b[0m \u001b[0mState\u001b[0m\u001b[0;34m.\u001b[0m\u001b[0mPROMPT\u001b[0m\u001b[0;34m,\u001b[0m \u001b[0;34m\u0027[! i dont know that one\",\" enter another animal]\u0027\u001b[0m\u001b[0;34m)\u001b[0m\u001b[0;34m\u001b[0m\u001b[0;34m\u001b[0m\u001b[0m\n\u001b[1;32m     47\u001b[0m \u001b[0;34m\u001b[0m\u001b[0m\n\u001b[0;32m---\u003e 48\u001b[0;31m \u001b[0mdf\u001b[0m\u001b[0;34m.\u001b[0m\u001b[0mrun\u001b[0m\u001b[0;34m(\u001b[0m\u001b[0mdebugging\u001b[0m\u001b[0;34m\u003d\u001b[0m\u001b[0;32mFalse\u001b[0m\u001b[0;34m)\u001b[0m\u001b[0;34m\u001b[0m\u001b[0;34m\u001b[0m\u001b[0m\n\u001b[0m",
            "\u001b[0;32m/anaconda2/envs/emora_cobot_env/lib/python3.7/site-packages/emora_stdm/state_transition_dialogue_manager/dialogue_flow.py\u001b[0m in \u001b[0;36mrun\u001b[0;34m(self, debugging)\u001b[0m\n\u001b[1;32m     57\u001b[0m                 \u001b[0mprint\u001b[0m\u001b[0;34m(\u001b[0m\u001b[0;34m\"S:\"\u001b[0m\u001b[0;34m,\u001b[0m \u001b[0mself\u001b[0m\u001b[0;34m.\u001b[0m\u001b[0msystem_turn\u001b[0m\u001b[0;34m(\u001b[0m\u001b[0mdebugging\u001b[0m\u001b[0;34m\u003d\u001b[0m\u001b[0mdebugging\u001b[0m\u001b[0;34m)\u001b[0m\u001b[0;34m)\u001b[0m\u001b[0;34m\u001b[0m\u001b[0;34m\u001b[0m\u001b[0m\n\u001b[1;32m     58\u001b[0m             \u001b[0;32melse\u001b[0m\u001b[0;34m:\u001b[0m\u001b[0;34m\u001b[0m\u001b[0;34m\u001b[0m\u001b[0m\n\u001b[0;32m---\u003e 59\u001b[0;31m                 \u001b[0muser_input\u001b[0m \u001b[0;34m\u003d\u001b[0m \u001b[0minput\u001b[0m\u001b[0;34m(\u001b[0m\u001b[0;34m\"U: \"\u001b[0m\u001b[0;34m)\u001b[0m\u001b[0;34m\u001b[0m\u001b[0;34m\u001b[0m\u001b[0m\n\u001b[0m\u001b[1;32m     60\u001b[0m                 \u001b[0mself\u001b[0m\u001b[0;34m.\u001b[0m\u001b[0muser_turn\u001b[0m\u001b[0;34m(\u001b[0m\u001b[0muser_input\u001b[0m\u001b[0;34m,\u001b[0m \u001b[0mdebugging\u001b[0m\u001b[0;34m\u003d\u001b[0m\u001b[0mdebugging\u001b[0m\u001b[0;34m)\u001b[0m\u001b[0;34m\u001b[0m\u001b[0;34m\u001b[0m\u001b[0m\n\u001b[1;32m     61\u001b[0m \u001b[0;34m\u001b[0m\u001b[0m\n",
            "\u001b[0;32m/anaconda2/envs/emora_cobot_env/lib/python3.7/site-packages/ipykernel/kernelbase.py\u001b[0m in \u001b[0;36mraw_input\u001b[0;34m(self, prompt)\u001b[0m\n\u001b[1;32m    857\u001b[0m             \u001b[0mself\u001b[0m\u001b[0;34m.\u001b[0m\u001b[0m_parent_ident\u001b[0m\u001b[0;34m,\u001b[0m\u001b[0;34m\u001b[0m\u001b[0;34m\u001b[0m\u001b[0m\n\u001b[1;32m    858\u001b[0m             \u001b[0mself\u001b[0m\u001b[0;34m.\u001b[0m\u001b[0m_parent_header\u001b[0m\u001b[0;34m,\u001b[0m\u001b[0;34m\u001b[0m\u001b[0;34m\u001b[0m\u001b[0m\n\u001b[0;32m--\u003e 859\u001b[0;31m             \u001b[0mpassword\u001b[0m\u001b[0;34m\u003d\u001b[0m\u001b[0;32mFalse\u001b[0m\u001b[0;34m,\u001b[0m\u001b[0;34m\u001b[0m\u001b[0;34m\u001b[0m\u001b[0m\n\u001b[0m\u001b[1;32m    860\u001b[0m         )\n\u001b[1;32m    861\u001b[0m \u001b[0;34m\u001b[0m\u001b[0m\n",
            "\u001b[0;32m/anaconda2/envs/emora_cobot_env/lib/python3.7/site-packages/ipykernel/kernelbase.py\u001b[0m in \u001b[0;36m_input_request\u001b[0;34m(self, prompt, ident, parent, password)\u001b[0m\n\u001b[1;32m    887\u001b[0m             \u001b[0;32mexcept\u001b[0m \u001b[0mKeyboardInterrupt\u001b[0m\u001b[0;34m:\u001b[0m\u001b[0;34m\u001b[0m\u001b[0;34m\u001b[0m\u001b[0m\n\u001b[1;32m    888\u001b[0m                 \u001b[0;31m# re-raise KeyboardInterrupt, to truncate traceback\u001b[0m\u001b[0;34m\u001b[0m\u001b[0;34m\u001b[0m\u001b[0;34m\u001b[0m\u001b[0m\n\u001b[0;32m--\u003e 889\u001b[0;31m                 \u001b[0;32mraise\u001b[0m \u001b[0mKeyboardInterrupt\u001b[0m\u001b[0;34m\u001b[0m\u001b[0;34m\u001b[0m\u001b[0m\n\u001b[0m\u001b[1;32m    890\u001b[0m             \u001b[0;32melse\u001b[0m\u001b[0;34m:\u001b[0m\u001b[0;34m\u001b[0m\u001b[0;34m\u001b[0m\u001b[0m\n\u001b[1;32m    891\u001b[0m                 \u001b[0;32mbreak\u001b[0m\u001b[0;34m\u001b[0m\u001b[0;34m\u001b[0m\u001b[0m\n",
            "\u001b[0;31mKeyboardInterrupt\u001b[0m: "
          ]
        }
      ],
      "source": "from emora_stdm import KnowledgeBase, DialogueFlow\nfrom enum import Enum\n\nclass State(Enum):\n    START \u003d 0\n    PROMPT \u003d 1\n    MAMMAL \u003d 2\n    BIRD \u003d 3\n    ERR \u003d 4\n    \nanimal_d \u003d {\"ontology\": \n                {\n                \"ontanimal\":\n                 [\n                     \"ontmammal\",\n                     \"ontbird\"\n                 ],\n                 \"ontmammal\": \n                 [\n                     \"cat\", \n                     \"dog\"\n                 ], \n                 \"ontbird\": \n                 [\n                     \"parrot\",\n                     \"dove\",\n                     \"crow\"\n                 ]\n                }\n           }\n\nknowledge \u003d KnowledgeBase()\nknowledge.load_json(animal_d)\ndf \u003d DialogueFlow(State.START, initial_speaker\u003dDialogueFlow.Speaker.SYSTEM, kb\u003dknowledge)\ndf.add_state(State.PROMPT, error_successor\u003dState.ERR)\n\ndf.add_system_transition(State.START, State.PROMPT, \u0027Enter an animal\":\"\u0027)\ndf.add_user_transition(State.PROMPT, State.MAMMAL, \"$animal\u003d#ONT(ontmammal)\")\ndf.add_user_transition(State.PROMPT, State.BIRD, \"$animal\u003d#ONT(ontbird)\")\ndf.add_system_transition(State.MAMMAL, State.PROMPT, \u0027[! $animal is a mammal\",\" enter another animal\":\"]\u0027)\ndf.add_system_transition(State.BIRD, State.PROMPT, \u0027[! $animal is a bird\",\" enter another animal\":\"]\u0027)\ndf.add_system_transition(State.ERR, State.PROMPT, \u0027[! i dont know that one\",\" enter another animal\":\"]\u0027)\n\ndf.run(debugging\u003dFalse)"
    },
    {
      "cell_type": "code",
      "execution_count": null,
      "metadata": {
        "pycharm": {}
      },
      "outputs": [],
      "source": []
    }
  ],
  "metadata": {
    "kernelspec": {
      "display_name": "Python [conda env:emora_cobot_env] *",
      "language": "python",
      "name": "conda-env-emora_cobot_env-py"
    },
    "language_info": {
      "codemirror_mode": {
        "name": "ipython",
        "version": 3
      },
      "file_extension": ".py",
      "mimetype": "text/x-python",
      "name": "python",
      "nbconvert_exporter": "python",
      "pygments_lexer": "ipython3",
      "version": "3.7.4"
    }
  },
  "nbformat": 4,
  "nbformat_minor": 2
}